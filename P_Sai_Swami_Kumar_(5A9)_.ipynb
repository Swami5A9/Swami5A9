{
  "nbformat": 4,
  "nbformat_minor": 0,
  "metadata": {
    "colab": {
      "name": "P.Sai Swami Kumar (5A9) .ipynb",
      "provenance": [],
      "include_colab_link": true
    },
    "kernelspec": {
      "name": "python3",
      "display_name": "Python 3"
    },
    "language_info": {
      "name": "python"
    }
  },
  "cells": [
    {
      "cell_type": "markdown",
      "metadata": {
        "id": "view-in-github",
        "colab_type": "text"
      },
      "source": [
        "<a href=\"https://colab.research.google.com/github/Swami5A9/Swami5A9/blob/main/P_Sai_Swami_Kumar_(5A9)_.ipynb\" target=\"_parent\"><img src=\"https://colab.research.google.com/assets/colab-badge.svg\" alt=\"Open In Colab\"/></a>"
      ]
    },
    {
      "cell_type": "markdown",
      "metadata": {
        "id": "4Sg2OL6XLImF"
      },
      "source": [
        " Excerise-1 Basics"
      ]
    },
    {
      "cell_type": "markdown",
      "metadata": {
        "id": "cJI956471Q5P"
      },
      "source": [
        "a) Running instructions in iterative interperter and a python script"
      ]
    },
    {
      "cell_type": "code",
      "metadata": {
        "colab": {
          "base_uri": "https://localhost:8080/"
        },
        "id": "efRjwmsPLel1",
        "outputId": "6ef79568-88cd-40a0-ff57-af53c4183260"
      },
      "source": [
        "a,b,c=\"Swami\",\"5A9\",8.8\n",
        "print (type(a))\n",
        "print (type(b))\n",
        "print (type (c))"
      ],
      "execution_count": null,
      "outputs": [
        {
          "output_type": "stream",
          "text": [
            "<class 'str'>\n",
            "<class 'str'>\n",
            "<class 'float'>\n"
          ],
          "name": "stdout"
        }
      ]
    },
    {
      "cell_type": "markdown",
      "metadata": {
        "id": "wzS6jb_BL9Qt"
      },
      "source": [
        "b) Write a program to purposefully raise indentation error and correct it."
      ]
    },
    {
      "cell_type": "code",
      "metadata": {
        "colab": {
          "base_uri": "https://localhost:8080/",
          "height": 163
        },
        "id": "vlvMsZ-CMJci",
        "outputId": "65b6b02f-23fa-4d50-dfa5-338c17ac0fc0"
      },
      "source": [
        "a=int(input (\"Enter a value\"))\n",
        "b=int(input (\"Enter b value\"))\n",
        "if a>b:\n",
        "print (\"If block\")\n",
        "print (\"%d is big\",a)\n",
        "else :\n",
        "print (\"else block\")\n",
        "print (\"%d is big\",b)"
      ],
      "execution_count": null,
      "outputs": [
        {
          "output_type": "error",
          "ename": "IndentationError",
          "evalue": "ignored",
          "traceback": [
            "\u001b[0;36m  File \u001b[0;32m\"<ipython-input-2-d955435fba48>\"\u001b[0;36m, line \u001b[0;32m4\u001b[0m\n\u001b[0;31m    print (\"If block\")\u001b[0m\n\u001b[0m        ^\u001b[0m\n\u001b[0;31mIndentationError\u001b[0m\u001b[0;31m:\u001b[0m expected an indented block\n"
          ]
        }
      ]
    },
    {
      "cell_type": "code",
      "metadata": {
        "colab": {
          "base_uri": "https://localhost:8080/"
        },
        "id": "tnB5InVWM5bR",
        "outputId": "0c6e1758-f8bf-49bc-8918-61ddfaee09f1"
      },
      "source": [
        " a=int(input (\"Enter a value\"))\n",
        "b=int(input (\"Enter b value\"))\n",
        "if a>b:\n",
        "  print (\"If block\")\n",
        "  print (\"%d is big\",a)\n",
        "else :\n",
        "  print (\"else block\")\n",
        "  print (\"%d is big\",b)"
      ],
      "execution_count": null,
      "outputs": [
        {
          "output_type": "stream",
          "text": [
            "Enter a value2\n",
            "Enter b value6\n",
            "else block\n",
            "%d is big 6\n"
          ],
          "name": "stdout"
        }
      ]
    },
    {
      "cell_type": "markdown",
      "metadata": {
        "id": "625hqXrPbfy_"
      },
      "source": [
        "Exercise-2"
      ]
    },
    {
      "cell_type": "markdown",
      "metadata": {
        "id": "KAxXVcCebuzk"
      },
      "source": [
        " a) Write a program to compute distance between two points taking input from the user(Pythagorean \n",
        "Theorem)"
      ]
    },
    {
      "cell_type": "code",
      "metadata": {
        "colab": {
          "base_uri": "https://localhost:8080/"
        },
        "id": "CLbgX_96bzGZ",
        "outputId": "37a5ef34-c02f-4156-9cfd-422eb526a32c"
      },
      "source": [
        "import math\n",
        "x1=int(input (\"Enter x1 value\"))\n",
        "x2=int(input (\"Enter x2 value\"))\n",
        "y1=int(input (\"Enter y1 value\"))\n",
        "y2=int(input (\"Enter y2 value\"))\n",
        " \n",
        "d=math.sqrt(((x2-x1)**2)+((y2-y1)**2))\n",
        " \n",
        "print(\"Distances between two points is(%d,%d) and (%d,%d) is %f\"%(x1,x2,y1,y2,d))"
      ],
      "execution_count": null,
      "outputs": [
        {
          "output_type": "stream",
          "text": [
            "Enter x1 value5\n",
            "Enter x2 value6\n",
            "Enter y1 value49\n",
            "Enter y2 value45\n",
            "Distances between two points is(5,6) and (49,45) is 4.123106\n"
          ],
          "name": "stdout"
        }
      ]
    },
    {
      "cell_type": "markdown",
      "metadata": {
        "id": "PzV6NUe7dP51"
      },
      "source": [
        "b) write a program add.py that takes 2 numbers as command line arguments and prints it's sum"
      ]
    },
    {
      "cell_type": "code",
      "metadata": {
        "colab": {
          "base_uri": "https://localhost:8080/",
          "height": 333
        },
        "id": "upxeQCUqdjdD",
        "outputId": "a055dedf-f1b8-4d92-9c76-5b679d306c95"
      },
      "source": [
        " \n",
        "import sys\n",
        " \n",
        "a=int(sys.argv[1])\n",
        "b=int(sys.argv[2])\n",
        "Sum=a+b\n",
        "print (\"Sum of two numbers is :\",Sum)"
      ],
      "execution_count": null,
      "outputs": [
        {
          "output_type": "error",
          "ename": "ValueError",
          "evalue": "ignored",
          "traceback": [
            "\u001b[0;31m---------------------------------------------------------------------------\u001b[0m",
            "\u001b[0;31mValueError\u001b[0m                                Traceback (most recent call last)",
            "\u001b[0;32m<ipython-input-9-4f8a746fea7b>\u001b[0m in \u001b[0;36m<module>\u001b[0;34m()\u001b[0m\n\u001b[1;32m      2\u001b[0m \u001b[0;32mimport\u001b[0m \u001b[0msys\u001b[0m\u001b[0;34m\u001b[0m\u001b[0;34m\u001b[0m\u001b[0m\n\u001b[1;32m      3\u001b[0m \u001b[0;34m\u001b[0m\u001b[0m\n\u001b[0;32m----> 4\u001b[0;31m \u001b[0ma\u001b[0m\u001b[0;34m=\u001b[0m\u001b[0mint\u001b[0m\u001b[0;34m(\u001b[0m\u001b[0msys\u001b[0m\u001b[0;34m.\u001b[0m\u001b[0margv\u001b[0m\u001b[0;34m[\u001b[0m\u001b[0;36m1\u001b[0m\u001b[0;34m]\u001b[0m\u001b[0;34m)\u001b[0m\u001b[0;34m\u001b[0m\u001b[0;34m\u001b[0m\u001b[0m\n\u001b[0m\u001b[1;32m      5\u001b[0m \u001b[0mb\u001b[0m\u001b[0;34m=\u001b[0m\u001b[0mint\u001b[0m\u001b[0;34m(\u001b[0m\u001b[0msys\u001b[0m\u001b[0;34m.\u001b[0m\u001b[0margv\u001b[0m\u001b[0;34m[\u001b[0m\u001b[0;36m2\u001b[0m\u001b[0;34m]\u001b[0m\u001b[0;34m)\u001b[0m\u001b[0;34m\u001b[0m\u001b[0;34m\u001b[0m\u001b[0m\n\u001b[1;32m      6\u001b[0m \u001b[0mSum\u001b[0m\u001b[0;34m=\u001b[0m\u001b[0ma\u001b[0m\u001b[0;34m+\u001b[0m\u001b[0mb\u001b[0m\u001b[0;34m\u001b[0m\u001b[0;34m\u001b[0m\u001b[0m\n",
            "\u001b[0;31mValueError\u001b[0m: invalid literal for int() with base 10: '-f'"
          ]
        }
      ]
    },
    {
      "cell_type": "markdown",
      "metadata": {
        "id": "H8HmjFHDT_1h"
      },
      "source": [
        "Exercise-3"
      ]
    },
    {
      "cell_type": "markdown",
      "metadata": {
        "id": "Oy2QWsEuUA7R"
      },
      "source": [
        " a) Write a Program for checking whether the given number is an even number or not."
      ]
    },
    {
      "cell_type": "code",
      "metadata": {
        "colab": {
          "base_uri": "https://localhost:8080/"
        },
        "id": "KDmkCI7CUmjW",
        "outputId": "fcd9e965-ee6a-436c-fc6b-b6f0104238d9"
      },
      "source": [
        "n=int(input (\"Enter n value\"))\n",
        "if(n%2==0):\n",
        "  print (\"Given number is even\",n);\n",
        "else:\n",
        " print (\"Given number is odd\",n);"
      ],
      "execution_count": null,
      "outputs": [
        {
          "output_type": "stream",
          "text": [
            "Enter n value49\n",
            "Given number is odd 49\n"
          ],
          "name": "stdout"
        }
      ]
    },
    {
      "cell_type": "markdown",
      "metadata": {
        "id": "pYY9bUxGVQwW"
      },
      "source": [
        " b) Using a for loop, write a program that prints out the decimal equivalents of 1/2, 1/3, 1/4, . . .1/10"
      ]
    },
    {
      "cell_type": "code",
      "metadata": {
        "colab": {
          "base_uri": "https://localhost:8080/"
        },
        "id": "wvdWGVlSVcMk",
        "outputId": "73586f81-14d2-461e-f379-aa2f21aedc14"
      },
      "source": [
        "n=int(input (\"Enter n value\"))\n",
        "j=1\n",
        "i=1\n",
        "while (i<=n):\n",
        "  print (\"%f is decimal equivalent for %d/%d \"%(j/i,j,i))\n",
        "  i+=1"
      ],
      "execution_count": null,
      "outputs": [
        {
          "output_type": "stream",
          "text": [
            "Enter n value10\n",
            "1.000000 is decimal equivalent for 1/1 \n",
            "0.500000 is decimal equivalent for 1/2 \n",
            "0.333333 is decimal equivalent for 1/3 \n",
            "0.250000 is decimal equivalent for 1/4 \n",
            "0.200000 is decimal equivalent for 1/5 \n",
            "0.166667 is decimal equivalent for 1/6 \n",
            "0.142857 is decimal equivalent for 1/7 \n",
            "0.125000 is decimal equivalent for 1/8 \n",
            "0.111111 is decimal equivalent for 1/9 \n",
            "0.100000 is decimal equivalent for 1/10 \n"
          ],
          "name": "stdout"
        }
      ]
    },
    {
      "cell_type": "markdown",
      "metadata": {
        "id": "wGkmoUQ5W_YP"
      },
      "source": [
        " c) Write a program using a for loop that loops over a sequence. What is sequence?"
      ]
    },
    {
      "cell_type": "code",
      "metadata": {
        "colab": {
          "base_uri": "https://localhost:8080/"
        },
        "id": "9ya_94lsXEzJ",
        "outputId": "218c490a-e8b7-4533-ec64-a74d4eca5715"
      },
      "source": [
        "num=[45,26,6,7,9,34,89] \n",
        "for i in num:\n",
        "  print (i)"
      ],
      "execution_count": null,
      "outputs": [
        {
          "output_type": "stream",
          "text": [
            "45\n",
            "26\n",
            "6\n",
            "7\n",
            "9\n",
            "34\n",
            "89\n"
          ],
          "name": "stdout"
        }
      ]
    },
    {
      "cell_type": "markdown",
      "metadata": {
        "id": "vR8MBu1fXhlN"
      },
      "source": [
        " d) Write a program using a while loop that asks the user for a number, and prints a countdownfrom the number to zero"
      ]
    },
    {
      "cell_type": "code",
      "metadata": {
        "colab": {
          "base_uri": "https://localhost:8080/"
        },
        "id": "tjnaFR8SXw_c",
        "outputId": "5135e36b-d80d-495e-b778-206a6722b4cd"
      },
      "source": [
        "n=int(input (\"Enter n value\"))\n",
        "while(n>=0):\n",
        "  print (n)\n",
        "  n-=1"
      ],
      "execution_count": null,
      "outputs": [
        {
          "output_type": "stream",
          "text": [
            "Enter n value5\n",
            "5\n",
            "4\n",
            "3\n",
            "2\n",
            "1\n",
            "0\n"
          ],
          "name": "stdout"
        }
      ]
    },
    {
      "cell_type": "markdown",
      "metadata": {
        "id": "qThpqTOCYOvy"
      },
      "source": [
        " Exercise - 4 Control Flow - Continued"
      ]
    },
    {
      "cell_type": "markdown",
      "metadata": {
        "id": "c5A1vP4xRMJI"
      },
      "source": [
        " a) Find sum of prime numbers below below 2 million"
      ]
    },
    {
      "cell_type": "code",
      "metadata": {
        "colab": {
          "base_uri": "https://localhost:8080/"
        },
        "id": "xXZjwNAeRQ4g",
        "outputId": "0f2f3f50-7752-4d4a-aa57-078f752b4246"
      },
      "source": [
        " \n",
        "n=int(input(\"Enter n value\"))\n",
        "i=2\n",
        "c=0\n",
        "sum=0\n",
        "for i in range(i,n):\n",
        "   count=0\n",
        "   for j in range(2,i): \n",
        "      if i%j==0: \n",
        "        count+=1 \n",
        "        break\n",
        "   if count==0: \n",
        "      sum=sum+i \n",
        "      c=c+1\n",
        "print(\"The number prime numbers below the number %d is %d\"%(n,c))\n",
        "print(\"Sum of all prime numbers is %d\"%(sum))"
      ],
      "execution_count": null,
      "outputs": [
        {
          "output_type": "stream",
          "text": [
            "Enter n value2000\n",
            "The number prime numbers below the number 2000 is 303\n",
            "Sum of all prime numbers is 277050\n"
          ],
          "name": "stdout"
        }
      ]
    },
    {
      "cell_type": "markdown",
      "metadata": {
        "id": "bZvvjkzvVsSK"
      },
      "source": [
        " b)Bystarting with 1 and 2, the first 10 terms will be:\n",
        "1, 2, 3, 5, 8, 13, 21, 34, 55, 89, ..."
      ]
    },
    {
      "cell_type": "code",
      "metadata": {
        "colab": {
          "base_uri": "https://localhost:8080/"
        },
        "id": "b5lc5PtgXEzK",
        "outputId": "5577b576-07cf-42e9-b740-0f0c43b9ea73"
      },
      "source": [
        " \n",
        "n=int(input(\"Enter the number of terms\")) \n",
        "a=0\n",
        "b=1 \n",
        "c=a+b\n",
        "count=0\n",
        "st= \" \" \n",
        "while count<n: \n",
        "   st+=\" \"+str(c)\n",
        "   a=b\n",
        "   b=c\n",
        "   c=a+b\n",
        "   count+=1\n",
        "print(st)"
      ],
      "execution_count": null,
      "outputs": [
        {
          "output_type": "stream",
          "text": [
            "Enter the number of terms10\n",
            "  1 2 3 5 8 13 21 34 55 89\n"
          ],
          "name": "stdout"
        }
      ]
    },
    {
      "cell_type": "markdown",
      "metadata": {
        "id": "dkdSxDMWXMg5"
      },
      "source": [
        " c) By considering the terms in the Fibonacci sequence whose values do not exceed four million,find the sum of the even-valued terms"
      ]
    },
    {
      "cell_type": "code",
      "metadata": {
        "id": "FiVThwCoYG99",
        "colab": {
          "base_uri": "https://localhost:8080/"
        },
        "outputId": "45640ad5-72e7-47dc-e174-bc3797b3e590"
      },
      "source": [
        " \n",
        "n=int(input(\"Enter the number of terms\")) \n",
        "a=0\n",
        "b=1 \n",
        "c=a+b\n",
        "sum=0\n",
        "count=0\n",
        "st= \" \" \n",
        "while count<n: \n",
        "   st+=\" \"+str(c)\n",
        "   if (c%2==0):\n",
        "       sum+=c\n",
        "   a=b\n",
        "   b=c\n",
        "   c=a+b\n",
        "   count+=1\n",
        "print(\"fibonacci series ...\")\n",
        "print(st)\n",
        "print(\"Sum of the even valued terms  fibnoicc series is \",sum)"
      ],
      "execution_count": null,
      "outputs": [
        {
          "output_type": "stream",
          "text": [
            "Enter the number of terms10\n",
            "fibonacci series ...\n",
            "  1 2 3 5 8 13 21 34 55 89\n",
            "Sum of the even valued terms  fibnoicc series is  44\n"
          ],
          "name": "stdout"
        }
      ]
    },
    {
      "cell_type": "markdown",
      "metadata": {
        "id": "_qVznGyBZRy-"
      },
      "source": [
        "Exercise -5a"
      ]
    },
    {
      "cell_type": "markdown",
      "metadata": {
        "id": "NBQs86D2ZgRj"
      },
      "source": [
        " a) Write a program to count the numbers of characters in the string and store them in adictionary data \n",
        "structure"
      ]
    },
    {
      "cell_type": "code",
      "metadata": {
        "colab": {
          "base_uri": "https://localhost:8080/"
        },
        "id": "pmr-9HC8Zrab",
        "outputId": "ef2e3f6c-c45a-4505-bdfa-785f7aaca6cc"
      },
      "source": [
        "list=[ ]\n",
        "d={ }\n",
        "n=int(input (\"Enter your list size\"))\n",
        "for i in range (0,n):\n",
        "  x=input (\"Enter your string\")\n",
        "  list.append(x)\n",
        "for i in range (0,n):\n",
        "  y=0\n",
        "  y=len(list[i])\n",
        "  print (\"The number characters in string %s is %d\"%(list[i],y))\n",
        "  d.update({list[i]:y})\n",
        "print(d)"
      ],
      "execution_count": null,
      "outputs": [
        {
          "output_type": "stream",
          "text": [
            "Enter your list size3\n",
            "Enter your stringSai\n",
            "Enter your stringSwami\n",
            "Enter your stringKumar\n",
            "The number characters in string Sai is 3\n",
            "The number characters in string Swami is 5\n",
            "The number characters in string Kumar is 5\n",
            "{'Sai': 3, 'Swami': 5, 'Kumar': 5}\n"
          ],
          "name": "stdout"
        }
      ]
    },
    {
      "cell_type": "markdown",
      "metadata": {
        "id": "Ua1hKftuZS3p"
      },
      "source": [
        "b) Write a program to use split and join method in the string and trace a birthday with dictionary data structure"
      ]
    },
    {
      "cell_type": "code",
      "metadata": {
        "id": "jNh2D1Y-IN59",
        "colab": {
          "base_uri": "https://localhost:8080/"
        },
        "outputId": "3c35b23b-a5c1-4eb8-fcde-a21922fac01a"
      },
      "source": [
        "dob={\"Swami\":\"10-07-2002\",\"Sai\":\"23-06-2002\"}\n",
        "name=input (\"Which person date of birth you want\")\n",
        "l=name.split()\n",
        "brith=\" \"\n",
        "for i in l:\n",
        "   if i in dob.keys():\n",
        "       pres=i \n",
        "print (\" \".join([pres,\"Birthday is\",dob[pres]]))"
      ],
      "execution_count": null,
      "outputs": [
        {
          "output_type": "stream",
          "text": [
            "Which person date of birth you wantSwami\n",
            "Swami Birthday is 10-07-2002\n"
          ],
          "name": "stdout"
        }
      ]
    },
    {
      "cell_type": "markdown",
      "metadata": {
        "id": "AEl8R31LSYKL"
      },
      "source": [
        "Exercise -6 DS continue"
      ]
    },
    {
      "cell_type": "markdown",
      "metadata": {
        "id": "9hPf7RdmHVBA"
      },
      "source": [
        " a) Write a program combinelists that combines these lists into a dictionary."
      ]
    },
    {
      "cell_type": "code",
      "metadata": {
        "colab": {
          "base_uri": "https://localhost:8080/"
        },
        "id": "BTY5pOoPSjyc",
        "outputId": "29198847-1f98-4752-f9fb-b2595e039c49"
      },
      "source": [
        " \n",
        "sub=[\"daa\",\"os\",\"dbms\",\"p&s\",\"ppl\",\"se\"]\n",
        "marks=[85,96,75,65,83,56]\n",
        "print(sub)\n",
        "print(marks)\n",
        "dic=dict(zip(sub,marks))\n",
        "print(dic)"
      ],
      "execution_count": null,
      "outputs": [
        {
          "output_type": "stream",
          "text": [
            "['daa', 'os', 'dbms', 'p&s', 'ppl', 'se']\n",
            "[85, 96, 75, 65, 83, 56]\n",
            "{'daa': 85, 'os': 96, 'dbms': 75, 'p&s': 65, 'ppl': 83, 'se': 56}\n"
          ],
          "name": "stdout"
        }
      ]
    },
    {
      "cell_type": "markdown",
      "metadata": {
        "id": "MFw7lVgCjEPR"
      },
      "source": [
        " b) Write a program to count frequency of characters in a given file. Can you use characterfrequency to \n",
        "tell whether the given file is a Python program file, C program file or a text file?"
      ]
    },
    {
      "cell_type": "code",
      "metadata": {
        "id": "R5DhIwCCjhTJ"
      },
      "source": [
        "filetype=['.py','.c','.txt']\n",
        "fn=input (\"Enter the file name\")\n",
        "f=open (fn,\"r\")\n",
        "count=dict()\n",
        "for ft in filetypes:\n",
        "   if(ft in fn):\n",
        "      if(ft=='.py'):\n",
        "         print (\"Python file\")\n",
        "      elif(ft=='.c'):\n",
        "         print (\"C file\")\n",
        "      elif(ft=='.txt'):\n",
        "         print (\"text file\")\n",
        "for line in f:\n",
        "   for ch in line:\n",
        "      if ch in count:\n",
        "         count [ch]=count [ch]+1\n",
        "      else:\n",
        "         count [Ch]=1\n",
        "print (count)\n",
        "f.close()"
      ],
      "execution_count": null,
      "outputs": []
    },
    {
      "cell_type": "markdown",
      "metadata": {
        "id": "mrwW-uMO_9JB"
      },
      "source": [
        " Exercise - 7 Files"
      ]
    },
    {
      "cell_type": "markdown",
      "metadata": {
        "id": "JiBIWqPd__Ds"
      },
      "source": [
        "  a) Write a program to print each line of a file in reverse order."
      ]
    },
    {
      "cell_type": "code",
      "metadata": {
        "id": "v13LEJ2UAQgv"
      },
      "source": [
        " obj=open (\"pqr.txt\",\"r\")\n",
        "lines=obj.readlines()\n",
        "for ln in lines:\n",
        "   print (ln[::-1])"
      ],
      "execution_count": null,
      "outputs": []
    },
    {
      "cell_type": "markdown",
      "metadata": {
        "id": "_uUnLTzZAT9e"
      },
      "source": [
        "  b) Write a program to compute the number of characters, words and lines in a file."
      ]
    },
    {
      "cell_type": "code",
      "metadata": {
        "id": "rW7Xi01nAt5K"
      },
      "source": [
        " n1=nc=nw=0\n",
        "obj=open(\"pqr.txt\",\"r\")\n",
        "lines=obj.readlines()\n",
        "for ln in lines:\n",
        "    n1+=1\n",
        "    words=ln.split()\n",
        "    nw=len(words)\n",
        "    nc+=len(ln)\n",
        "print (\"Number of Lines\",n1)\n",
        "print (\"Number of Words\",nw)\n",
        "print (\"Number of Characters\",nc)"
      ],
      "execution_count": null,
      "outputs": []
    },
    {
      "cell_type": "markdown",
      "metadata": {
        "id": "-GownTCJAfDe"
      },
      "source": [
        "Exercise -8 Functions"
      ]
    },
    {
      "cell_type": "markdown",
      "metadata": {
        "id": "9yUDJ04nrdW7"
      },
      "source": [
        " a) Write a function ball collide that takes two balls as parameters and computes if they arecolliding. Your function should return a Boolean representing whether or not the balls arecolliding.\n",
        "Hint: Represent a ball on a plane as a tuple of (x, y, r), r being the radius\n",
        "If (distance between two balls centers) <= (sum of their radii) they (they are colliding)"
      ]
    },
    {
      "cell_type": "code",
      "metadata": {
        "colab": {
          "base_uri": "https://localhost:8080/"
        },
        "id": "Kdz2oNLyru_V",
        "outputId": "e577ab00-f027-48f3-870d-8342970137a1"
      },
      "source": [
        " \n",
        "import math\n",
        " \n",
        "def ball_collide(t1,t2): \n",
        "     x1,y1,r1=t1\n",
        "     \n",
        "     x2,y2,r2=t2\n",
        "     d=math.sqrt((x2-x1)**2+(y2-y1)**2)\n",
        "     if d<=r1+r2: \n",
        "        return True\n",
        "     else :\n",
        "        return False\n",
        "t1=[ ]        \n",
        "t2=[ ]\n",
        "print(\"Enter ball one coordinates and radius\")\n",
        "for i in range(0,3): \n",
        "   x=int(input())\n",
        "   t1.append(x)\n",
        "print(\"Enter ball two coordinates and radius\")   \n",
        "for i in range(0,3): \n",
        "   x=int(input())\n",
        "   t2.append(x)   \n",
        "t1=tuple(t1)\n",
        "t2=tuple(t2)\n",
        "if(ball_collide(t1,t2)): \n",
        "   print(\"Balls are colliding to each other\")\n",
        "else:\n",
        "     print(\"Balls are Not colliding to each other\")"
      ],
      "execution_count": null,
      "outputs": [
        {
          "output_type": "stream",
          "text": [
            "Enter ball one coordinates and radius\n",
            "2\n",
            "4\n",
            "6\n",
            "Enter ball two coordinates and radius\n",
            "3\n",
            "6\n",
            "9\n",
            "Balls are colliding to each other\n"
          ],
          "name": "stdout"
        }
      ]
    },
    {
      "cell_type": "markdown",
      "metadata": {
        "id": "5_QJ1VLIsRM8"
      },
      "source": [
        "b) Find mean, median, mode for the given set of numbers in a list."
      ]
    },
    {
      "cell_type": "code",
      "metadata": {
        "colab": {
          "base_uri": "https://localhost:8080/"
        },
        "id": "FhjIjA3I2Ofo",
        "outputId": "4024ae1a-433a-4413-f202-3f765879035e"
      },
      "source": [
        "def list_mean(num_list):\n",
        "    return sum(num_list)/len(num_list)\n",
        "def list_median(num_list):\n",
        "    num_list.sort()\n",
        "    print (num_list)\n",
        "    n=len(num_list)\n",
        "    print (\"Total\",n)\n",
        "    mid=n//2\n",
        "    print (\"Mid\",mid)\n",
        "    if(n%2==1):\n",
        "       return num_list[mid]\n",
        "    else:\n",
        "       return (num_list[mid-1]+num_list[mid])/2\n",
        "def list_mode(num_list):\n",
        "    num_list.sort()\n",
        "    temp=[]\n",
        "    i=0\n",
        "    while i<len(num_list):\n",
        "       temp.append(num_list.count(num_list[i]))\n",
        "       i+=1\n",
        "    dic=dict (zip (num_list,temp))\n",
        "    mode={k for (k,v) in dic.items() if v==max(temp)}\n",
        "    return mode\n",
        "list=[1,1,2,2,2,3,4,5,3]\n",
        "print (\"Mean of the given list:\",list_mean(list))\n",
        "print (\"Median of the given list:\",list_median(list))\n",
        "print (\"Mode of the given list:\",list_mode(list))"
      ],
      "execution_count": null,
      "outputs": [
        {
          "output_type": "stream",
          "text": [
            "Mean of the given list: 2.5555555555555554\n",
            "[1, 1, 2, 2, 2, 3, 3, 4, 5]\n",
            "Total 9\n",
            "Mid 4\n",
            "Median of the given list: 2\n",
            "Mode of the given list: {2}\n"
          ],
          "name": "stdout"
        }
      ]
    },
    {
      "cell_type": "markdown",
      "metadata": {
        "id": "o61s6lCE63ce"
      },
      "source": [
        "Exercise-9 Function Continue"
      ]
    },
    {
      "cell_type": "markdown",
      "metadata": {
        "id": "rbNs2dS17O0o"
      },
      "source": [
        " a) Write a function nearly equal to test whether two strings are nearly equal. Two strings a and bare \n",
        "nearly equal when a can be generated by a single mutation on b."
      ]
    },
    {
      "cell_type": "code",
      "metadata": {
        "colab": {
          "base_uri": "https://localhost:8080/"
        },
        "id": "Wi7G2Vdi7Qp5",
        "outputId": "9a075fdf-8f75-4006-c5c5-4170a5169c2b"
      },
      "source": [
        "def nearly_eq(str1,str2):\n",
        "    count=0\n",
        "    i=j=0\n",
        "    while (i<len(str1) and j<len(str2)):\n",
        "        if(str1[i]!=str2[j]):\n",
        "          count+=1\n",
        "          if(len(str1)>len(str2)):\n",
        "             i+=1\n",
        "          elif(len(str1)==len(str2)):\n",
        "             pass\n",
        "          else:\n",
        "            i-=1\n",
        "        if (count>1):\n",
        "          return False\n",
        "        i+=1\n",
        "        j+=1\n",
        "        if(count<2):\n",
        "           return True\n",
        "S1=input (\"Enter string1\")\n",
        "S2=input (\"Enter string2\")\n",
        "if(nearly_eq(S1,S2)):\n",
        "   print (\"Strings are nearly equal\")\n",
        "else:\n",
        "   print (\"Strings are not nearly equal\")"
      ],
      "execution_count": null,
      "outputs": [
        {
          "output_type": "stream",
          "text": [
            "Enter string1Sai\n",
            "Enter string2Swami\n",
            "Strings are nearly equal\n"
          ],
          "name": "stdout"
        }
      ]
    },
    {
      "cell_type": "markdown",
      "metadata": {
        "id": "olF6lUsN-Jr5"
      },
      "source": [
        " b) Write a function dup to find all duplicates in the list."
      ]
    },
    {
      "cell_type": "code",
      "metadata": {
        "colab": {
          "base_uri": "https://localhost:8080/"
        },
        "id": "Rp6SORJxBtBt",
        "outputId": "224832c7-8e3b-4532-8f50-f95748a83bda"
      },
      "source": [
        " \n",
        "def dup(list1,n):\n",
        "    lista=[ ]\n",
        "    for i in range(0,n):\n",
        "        count=1\n",
        "        for j in range(i+1,n):\n",
        "            if(list1[i]==list1[j] ):\n",
        "                count+=1\n",
        "                list1[j]=-1\n",
        "        \n",
        "        if(count>1 and list1[i]!=-1):\n",
        "            lista.append(list1[i])\n",
        "               \n",
        "    print(\"The duplicate elements in list is ::\",lista)\n",
        "     \n",
        "list1=[ ]\n",
        "n=int(input(\"Enter n value\"))\n",
        " \n",
        "print(\"Enter data\")\n",
        "for i in range(0,n):\n",
        "    x=int(input())\n",
        "    list1.append(x)\n",
        "dup(list1,n)"
      ],
      "execution_count": null,
      "outputs": [
        {
          "output_type": "stream",
          "text": [
            "Enter n value6\n",
            "Enter data\n",
            "10\n",
            "2\n",
            "3\n",
            "5\n",
            "10\n",
            "2\n",
            "The duplicate elements in list is :: [10, 2]\n"
          ],
          "name": "stdout"
        }
      ]
    },
    {
      "cell_type": "markdown",
      "metadata": {
        "id": "c8tzld1xCHuG"
      },
      "source": [
        " c) Write a function unique to find all the unique elements of a list."
      ]
    },
    {
      "cell_type": "code",
      "metadata": {
        "colab": {
          "base_uri": "https://localhost:8080/"
        },
        "id": "eUraVaZKCNp1",
        "outputId": "9603aad3-99c7-4296-a405-434889cc50fa"
      },
      "source": [
        " \n",
        "def unique (list1,n):\n",
        "    lista=[ ]\n",
        "    for i in range(0,n):\n",
        "        count=1\n",
        "        for j in range(i+1,n):\n",
        "            if(list1[i]==list1[j] ):\n",
        "                count+=1\n",
        "                list1[j]=-1\n",
        "        \n",
        "        if(count==1 and list1[i]!=-1):\n",
        "            lista.append(list1[i])\n",
        "               \n",
        "    print(\"The unique elements in list is ::\",lista)\n",
        "     \n",
        "list1=[ ]\n",
        "n=int(input(\"Enter n value\"))\n",
        " \n",
        "print(\"Enter data\")\n",
        "for i in range(0,n):\n",
        "    x=int(input())\n",
        "    list1.append(x)\n",
        "unique(list1,n)"
      ],
      "execution_count": null,
      "outputs": [
        {
          "output_type": "stream",
          "text": [
            "Enter n value5\n",
            "Enter data\n",
            "10\n",
            "6\n",
            "3\n",
            "10\n",
            "9\n",
            "The unique elements in list is :: [6, 3, 9]\n"
          ],
          "name": "stdout"
        }
      ]
    },
    {
      "cell_type": "markdown",
      "metadata": {
        "id": "Yz1XkkEdDA6W"
      },
      "source": [
        "Exercise-10 Functions Problem- Solving"
      ]
    },
    {
      "cell_type": "markdown",
      "metadata": {
        "id": "0RBWGKA0DN2J"
      },
      "source": [
        " a) Write a function cumulative product to compute cumulative product of a list of numbers."
      ]
    },
    {
      "cell_type": "code",
      "metadata": {
        "colab": {
          "base_uri": "https://localhost:8080/"
        },
        "id": "zyvvy8nHDPKb",
        "outputId": "9824e448-6a71-43b9-e59e-b49a2dd0ad5d"
      },
      "source": [
        " \n",
        "def cummulative_product(list1,n): \n",
        "    listcp=[ ]\n",
        "    i=0\n",
        "    listcp.append(list1[i])\n",
        "    for i in range(1,n):\n",
        "      x=list1[i]*listcp[i-1]\n",
        "      listcp.append(x)\n",
        "    print(listcp)\n",
        "list1=[ ]\n",
        "n=int(input(\"Enter your lists size\"))\n",
        "print(\"Enter your data\")\n",
        "for i in range(0,n): \n",
        "  x=int(input())\n",
        "  list1.append(x)\n",
        "cummulative_product(list1,n)"
      ],
      "execution_count": null,
      "outputs": [
        {
          "output_type": "stream",
          "text": [
            "Enter your lists size5\n",
            "Enter your data\n",
            "10\n",
            "1\n",
            "2\n",
            "4\n",
            "3\n",
            "[10, 10, 20, 80, 240]\n"
          ],
          "name": "stdout"
        }
      ]
    },
    {
      "cell_type": "markdown",
      "metadata": {
        "id": "quSkIERIDku3"
      },
      "source": [
        " b) Write a function reverse to reverse a list. Without using the reverse function."
      ]
    },
    {
      "cell_type": "code",
      "metadata": {
        "colab": {
          "base_uri": "https://localhost:8080/"
        },
        "id": "a81vr-1WD2mn",
        "outputId": "0bc64191-eb93-4dd0-e835-c458b2fea4b1"
      },
      "source": [
        "def reverse_list(list1):\n",
        "    i=0\n",
        "    j=len(list1)-1\n",
        "    while (i<=j):\n",
        "       temp=list1[i]\n",
        "       list1[i]=list1[j]\n",
        "       list1[j]=temp\n",
        "       i+=1\n",
        "       j-=1\n",
        "list1=[]\n",
        "n=int(input (\"Enter your list size\"))\n",
        "print (\"Enter data\")\n",
        "for i in range (0,n):\n",
        "  x=int(input ())\n",
        "  list1.append(x)\n",
        "reverse_list(list1)\n",
        "print (\"List after reverse function\",list1)"
      ],
      "execution_count": null,
      "outputs": [
        {
          "output_type": "stream",
          "text": [
            "Enter your list size5\n",
            "Enter data\n",
            "10\n",
            "20\n",
            "30\n",
            "40\n",
            "50\n",
            "List after reverse function [50, 40, 30, 20, 10]\n"
          ],
          "name": "stdout"
        }
      ]
    },
    {
      "cell_type": "markdown",
      "metadata": {
        "id": "i9-3mOUPHUNQ"
      },
      "source": [
        " c) Write function to compute gcd, lcm of two numbers. Each function shouldn’t exceed one line."
      ]
    },
    {
      "cell_type": "code",
      "metadata": {
        "colab": {
          "base_uri": "https://localhost:8080/"
        },
        "id": "NEpooY8OHV4f",
        "outputId": "fd1f2b12-f58a-47fb-eacb-c092b450025a"
      },
      "source": [
        " \n",
        "gcd=lambda a,b : a if b==0 else gcd(a,a%b)\n",
        "lcm=lambda a,b : (a*b)/gcd(a,b)\n",
        " \n",
        "a=int(input(\"Enter a value\"))\n",
        "b=int(input(\"Enter b value\"))\n",
        "print(\"GCD of two numbers is ::\",gcd(a,b))\n",
        "print(\"LCM of two numbers is ::\",lcm(a,b))"
      ],
      "execution_count": null,
      "outputs": [
        {
          "output_type": "stream",
          "text": [
            "Enter a value6\n",
            "Enter b value6\n",
            "GCD of two numbers is :: 6\n",
            "LCM of two numbers is :: 6.0\n"
          ],
          "name": "stdout"
        }
      ]
    },
    {
      "cell_type": "markdown",
      "metadata": {
        "id": "VbPiSr7nwN7S"
      },
      "source": [
        " Exercise 11 Multi D lists"
      ]
    },
    {
      "cell_type": "markdown",
      "metadata": {
        "id": "3nOHbDGswQ3F"
      },
      "source": [
        " a) Write a program that defines a matrix and prints"
      ]
    },
    {
      "cell_type": "code",
      "metadata": {
        "colab": {
          "base_uri": "https://localhost:8080/"
        },
        "id": "W2e0M3h2wSOS",
        "outputId": "aca0e611-ae3a-439c-e0c6-d23e5878428f"
      },
      "source": [
        " \n",
        "def read_matrix(rows,cols):\n",
        "    print(\" Enter data into matrix \")\n",
        "    return [[int(input())for j in range(0,cols)]for i in range(0,rows)]\n",
        "    \n",
        "def display_matrix(matrix,rows,cols):\n",
        "    for i in range(0,rows):\n",
        "        for j in range(0,cols):\n",
        "            print(matrix[i][j],end='\\t')\n",
        "        print()\n",
        "rows=int(input(\"Enter rows size::\"))\n",
        "cols=int(input(\"Enter cols size::\"))\n",
        " \n",
        "matrix1=read_matrix(rows,cols)\n",
        "print (\"Displaying matrix\")\n",
        "display_matrix(matrix1,rows,cols)"
      ],
      "execution_count": null,
      "outputs": [
        {
          "output_type": "stream",
          "text": [
            "Enter rows size::2\n",
            "Enter cols size::2\n",
            " Enter data into matrix \n",
            "1\n",
            "2\n",
            "3\n",
            "4\n",
            "Displaying matrix\n",
            "1\t2\t\n",
            "3\t4\t\n"
          ],
          "name": "stdout"
        }
      ]
    },
    {
      "cell_type": "markdown",
      "metadata": {
        "id": "VuLjQeNfz-FU"
      },
      "source": [
        " b) Write a program to perform addition of two square matrices"
      ]
    },
    {
      "cell_type": "code",
      "metadata": {
        "colab": {
          "base_uri": "https://localhost:8080/"
        },
        "id": "vbMDWcKvz_4j",
        "outputId": "7f2027a4-3f0d-43f3-eeba-0008ff05044f"
      },
      "source": [
        " \n",
        "def mat_read(rows,cols):\n",
        "    mat=[[int(input(\"Enter the mat[%d,%d] value \"%(i,j)))for j in range(cols)]for i in range (rows)]\n",
        "    return mat\n",
        "def print_mat(rows,cols,mat):\n",
        "    for i in range(rows):\n",
        "        for j in range (cols):\n",
        "            print(mat[i][j],end='\\t')\n",
        "        print()\n",
        "    \n",
        "matA=[[]]\n",
        "matB=[[]]\n",
        "mat_sum=[[]]\n",
        " \n",
        " \n",
        "rows=int(input(\"Enter the row size \"))\n",
        "cols=int(input(\"Enter the column size \"))\n",
        " \n",
        "if(rows==cols):\n",
        "    print(\"For matrix A\")\n",
        "    matA=mat_read(rows,cols)\n",
        "    \n",
        "    print(\"For matrix B\")\n",
        "    matB=mat_read(rows,cols)\n",
        "    \n",
        "    mat_sum=[[matA[i][j]+matB[i][j] for j in range(cols)]for i in range (rows)]\n",
        " \n",
        "    print(\"Matrix A \")\n",
        "    print_mat(rows,cols,matA)\n",
        "    \n",
        "    print(\"Matrix B \")\n",
        "    print_mat(rows,cols,matB)\n",
        "    \n",
        "    print(\"Matrix A+B = \")\n",
        "    print_mat(rows,cols,mat_sum)\n",
        "else:\n",
        "    print(\"Matrix Addition is not possible\")"
      ],
      "execution_count": null,
      "outputs": [
        {
          "output_type": "stream",
          "text": [
            "Enter the row size 2\n",
            "Enter the column size 2\n",
            "For matrix A\n",
            "Enter the mat[0,0] value 1\n",
            "Enter the mat[0,1] value 2\n",
            "Enter the mat[1,0] value 3\n",
            "Enter the mat[1,1] value 4\n",
            "For matrix B\n",
            "Enter the mat[0,0] value 5\n",
            "Enter the mat[0,1] value 6\n",
            "Enter the mat[1,0] value 7\n",
            "Enter the mat[1,1] value 8\n",
            "Matrix A \n",
            "1\t2\t\n",
            "3\t4\t\n",
            "Matrix B \n",
            "5\t6\t\n",
            "7\t8\t\n",
            "Matrix A+B = \n",
            "6\t8\t\n",
            "10\t12\t\n"
          ],
          "name": "stdout"
        }
      ]
    },
    {
      "cell_type": "markdown",
      "metadata": {
        "id": "EFpsLszh0aGb"
      },
      "source": [
        " c) Write a program to perform multiplication of two square matrices"
      ]
    },
    {
      "cell_type": "code",
      "metadata": {
        "colab": {
          "base_uri": "https://localhost:8080/"
        },
        "id": "8onzRVNL0_zC",
        "outputId": "2f051fd4-6945-40da-8002-a3a8a1e06e99"
      },
      "source": [
        " \n",
        "def mat_read(rows,cols):\n",
        "    mat=[[int(input(\"Enter the mat[%d,%d] value \"%(i,j)))for j in range(cols)]for i in range (rows)]\n",
        "    return mat\n",
        "def print_mat(rows,cols,mat):\n",
        "    for i in range(rows):\n",
        "        for j in range (cols):\n",
        "            print(mat[i][j],end='\\t')\n",
        "        print()\n",
        "    \n",
        "matA=[[]]\n",
        "matB=[[]]\n",
        "mat_mul=[[]]\n",
        " \n",
        " \n",
        "rows=int(input(\"Enter the row size \"))\n",
        "cols=int(input(\"Enter the column size \"))\n",
        " \n",
        "if(rows==cols):\n",
        "    print(\"For matrix A\")\n",
        "    matA=mat_read(rows,cols)\n",
        "    \n",
        "    print(\"For matrix B\")\n",
        "    matB=mat_read(rows,cols)\n",
        "    \n",
        "    mat_mul=[[0 for j in range(cols)]for i in range (rows)]\n",
        " \n",
        "    for i in range (rows):\n",
        "        for j in range(cols):\n",
        "            for k in range(cols):\n",
        "                mat_mul[i][j]+=matA[i][k]*matB[k][j]\n",
        " \n",
        "    print(\"Matrix A \")\n",
        "    print_mat(rows,cols,matA)\n",
        "    \n",
        "    print(\"Matrix B \")\n",
        "    print_mat(rows,cols,matB)\n",
        "    \n",
        "    print(\"Matrix A*B = \")\n",
        "    print_mat(rows,cols,mat_mul)\n",
        "else:\n",
        "    print(\"Matrix multiplication is not possible\")"
      ],
      "execution_count": null,
      "outputs": [
        {
          "output_type": "stream",
          "text": [
            "Enter the row size 2\n",
            "Enter the column size 2\n",
            "For matrix A\n",
            "Enter the mat[0,0] value 1\n",
            "Enter the mat[0,1] value 2\n",
            "Enter the mat[1,0] value 3\n",
            "Enter the mat[1,1] value 4\n",
            "For matrix B\n",
            "Enter the mat[0,0] value 5\n",
            "Enter the mat[0,1] value 6\n",
            "Enter the mat[1,0] value 7\n",
            "Enter the mat[1,1] value 8\n",
            "Matrix A \n",
            "1\t2\t\n",
            "3\t4\t\n",
            "Matrix B \n",
            "5\t6\t\n",
            "7\t8\t\n",
            "Matrix A*B = \n",
            "19\t22\t\n",
            "43\t50\t\n"
          ],
          "name": "stdout"
        }
      ]
    },
    {
      "cell_type": "markdown",
      "metadata": {
        "id": "FLWxK29lnYye"
      },
      "source": [
        " Exercise-12\n",
        " \n",
        "Modules\n",
        " \n",
        "a) Install package requests,flasks and explore them.using(pip)\n",
        " \n",
        "b) write a script that imports requests and fetch content from the page.Eg(wiki)\n",
        " \n",
        "c) write a simple script that serves a simple HTTPResponse and simple HTML page"
      ]
    },
    {
      "cell_type": "code",
      "metadata": {
        "colab": {
          "base_uri": "https://localhost:8080/"
        },
        "id": "je6ThfmenauO",
        "outputId": "8e13ee36-767e-4f5a-ee93-4dec002fec8a"
      },
      "source": [
        " \n",
        "import requests\n",
        " \n",
        "r=requests.get('https://www.google.com')\n",
        " \n",
        "print(\"Statuscode:\",r.status_code)\n",
        " \n",
        "print(\"Header Content:\",r.headers['content-type'])\n",
        "print(r.text)"
      ],
      "execution_count": null,
      "outputs": [
        {
          "output_type": "stream",
          "text": [
            "Statuscode: 200\n",
            "Header Content: text/html; charset=ISO-8859-1\n",
            "<!doctype html><html itemscope=\"\" itemtype=\"http://schema.org/WebPage\" lang=\"zh-TW\"><head><meta content=\"text/html; charset=UTF-8\" http-equiv=\"Content-Type\"><meta content=\"/images/branding/googleg/1x/googleg_standard_color_128dp.png\" itemprop=\"image\"><title>Google</title><script nonce=\"FphcaKC4pegqTYH2JKdbrQ==\">(function(){window.google={kEI:'Gmj1YOPMF4K0mAWr4aSYCg',kEXPI:'0,772215,1,530320,56873,954,5105,206,4804,2316,383,246,5,1354,5250,1122516,1197759,132,392,88,328896,51223,16115,28684,17572,4859,1361,9290,3021,2824,14764,4998,13228,3847,4193,6429,7432,7095,235,4283,2777,919,5081,1593,1279,2212,239,291,149,1103,840,1983,213,4101,108,3406,606,2023,2299,6340,8328,3227,2845,7,12354,5096,7876,5037,3407,908,2,941,2614,13142,3,576,6460,148,12314,1661,4,1528,2304,1238,10484,2015,4067,9544,4764,2658,4243,2458,656,30,5664,7964,2305,640,1492,5586,3772,4048,2715,665,5803,2326,228,4094,3138,6,908,3,3370,171,1,14710,1814,283,38,874,5992,1160,192,9266,1908,2,1394,2806,1715,2,3036,21,2538,2,1,3,3622,4799,1931,1532,2377,93,316,234,1780,1275,4578,1576,3,471,1647,173,2659,2,2,2170,623,95,2,1040,75,570,515,1269,3426,2,1712,290,1267,174,33,58,188,661,2719,1814,2731,3,117,8,747,3222,634,745,1460,2433,16,1,725,585,238,226,1897,479,179,2,6,65,2,6,25,498,1245,441,119,393,642,326,2,1,343,683,7,52,71,898,1164,32,317,335,88,469,85,51,275,562,332,57,101,190,137,432,46,1481,174,176,6,1378,525,544,714,2220,37,285,85,387,932,386,5613483,2031,101,93,32,220,58,2,5996809,2800696,882,444,1,2,80,1,1796,1,9,2,2551,1,748,141,795,563,1,4265,1,1,2,1331,3299,843,2609,155,17,13,72,139,4,2,20,2,169,13,19,46,5,39,96,548,29,2,2,1,2,1,2,2,7,4,1,2,2,2,2,2,2,312,41,513,186,1,1,158,3,2,2,2,2,2,4,2,3,3,233,24,12,21,1874750,21780087,299865,2772894,93132,1146350,28975,338,3,2340,2860,262',kBL:'rUkx'};google.sn='webhp';google.kHL='zh-TW';})();(function(){\n",
            "var f=this||self;var h,k=[];function l(a){for(var b;a&&(!a.getAttribute||!(b=a.getAttribute(\"eid\")));)a=a.parentNode;return b||h}function m(a){for(var b=null;a&&(!a.getAttribute||!(b=a.getAttribute(\"leid\")));)a=a.parentNode;return b}\n",
            "function n(a,b,c,d,g){var e=\"\";c||-1!==b.search(\"&ei=\")||(e=\"&ei=\"+l(d),-1===b.search(\"&lei=\")&&(d=m(d))&&(e+=\"&lei=\"+d));d=\"\";!c&&f._cshid&&-1===b.search(\"&cshid=\")&&\"slh\"!==a&&(d=\"&cshid=\"+f._cshid);c=c||\"/\"+(g||\"gen_204\")+\"?atyp=i&ct=\"+a+\"&cad=\"+b+e+\"&zx=\"+Date.now()+d;/^http:/i.test(c)&&\"https:\"===window.location.protocol&&(google.ml&&google.ml(Error(\"a\"),!1,{src:c,glmm:1}),c=\"\");return c};h=google.kEI;google.getEI=l;google.getLEI=m;google.ml=function(){return null};google.log=function(a,b,c,d,g){if(c=n(a,b,c,d,g)){a=new Image;var e=k.length;k[e]=a;a.onerror=a.onload=a.onabort=function(){delete k[e]};a.src=c}};google.logUrl=n;}).call(this);(function(){\n",
            "google.y={};google.sy=[];google.x=function(a,b){if(a)var c=a.id;else{do c=Math.random();while(google.y[c])}google.y[c]=[a,b];return!1};google.sx=function(a){google.sy.push(a)};google.lm=[];google.plm=function(a){google.lm.push.apply(google.lm,a)};google.lq=[];google.load=function(a,b,c){google.lq.push([[a],b,c])};google.loadAll=function(a,b){google.lq.push([a,b])};google.bx=!1;google.lx=function(){};}).call(this);google.f={};(function(){\n",
            "document.documentElement.addEventListener(\"submit\",function(b){var a;if(a=b.target){var c=a.getAttribute(\"data-submitfalse\");a=\"1\"==c||\"q\"==c&&!a.elements.q.value?!0:!1}else a=!1;a&&(b.preventDefault(),b.stopPropagation())},!0);document.documentElement.addEventListener(\"click\",function(b){var a;a:{for(a=b.target;a&&a!=document.documentElement;a=a.parentElement)if(\"A\"==a.tagName){a=\"1\"==a.getAttribute(\"data-nohref\");break a}a=!1}a&&b.preventDefault()},!0);}).call(this);</script><style>#gbar,#guser{font-size:13px;padding-top:1px !important;}#gbar{height:22px}#guser{padding-bottom:7px !important;text-align:right}.gbh,.gbd{border-top:1px solid #c9d7f1;font-size:1px}.gbh{height:0;position:absolute;top:24px;width:100%}@media all{.gb1{height:22px;margin-right:.5em;vertical-align:top}#gbar{float:left}}a.gb1,a.gb4{text-decoration:underline !important}a.gb1,a.gb4{color:#00c !important}.gbi .gb4{color:#dd8e27 !important}.gbf .gb4{color:#900 !important}\n",
            "</style><style>body,td,a,p,.h{font-family:arial,sans-serif}body{margin:0;overflow-y:scroll}#gog{padding:3px 8px 0}td{line-height:.8em}.gac_m td{line-height:17px}form{margin-bottom:20px}.h{color:#1558d6}em{color:#c5221f;font-style:normal;font-weight:normal}a em{text-decoration:underline}.lst{height:25px;width:496px}.gsfi,.lst{font:18px arial,sans-serif}.gsfs{font:17px arial,sans-serif}.ds{display:inline-box;display:inline-block;margin:3px 0 4px;margin-left:4px}input{font-family:inherit}body{background:#fff;color:#000}a{color:#4b11a8;text-decoration:none}a:hover,a:active{text-decoration:underline}.fl a{color:#1558d6}a:visited{color:#4b11a8}.sblc{padding-top:5px}.sblc a{display:block;margin:2px 0;margin-left:13px;font-size:11px}.lsbb{background:#f8f9fa;border:solid 1px;border-color:#dadce0 #70757a #70757a #dadce0;height:30px}.lsbb{display:block}#WqQANb a{display:inline-block;margin:0 12px}.lsb{background:url(/images/nav_logo229.png) 0 -261px repeat-x;border:none;color:#000;cursor:pointer;height:30px;margin:0;outline:0;font:15px arial,sans-serif;vertical-align:top}.lsb:active{background:#dadce0}.lst:focus{outline:none}</style><script nonce=\"FphcaKC4pegqTYH2JKdbrQ==\"></script></head><body bgcolor=\"#fff\"><script nonce=\"FphcaKC4pegqTYH2JKdbrQ==\">(function(){var src='/images/nav_logo229.png';var iesg=false;document.body.onload = function(){window.n && window.n();if (document.images){new Image().src=src;}\n",
            "if (!iesg){document.f&&document.f.q.focus();document.gbqf&&document.gbqf.q.focus();}\n",
            "}\n",
            "})();</script><div id=\"mngb\"><div id=gbar><nobr><b class=gb1>&#25628;&#23563;</b> <a class=gb1 href=\"https://www.google.com.tw/imghp?hl=zh-TW&tab=wi\">&#22294;&#29255;</a> <a class=gb1 href=\"https://maps.google.com.tw/maps?hl=zh-TW&tab=wl\">&#22320;&#22294;</a> <a class=gb1 href=\"https://play.google.com/?hl=zh-TW&tab=w8\">Play</a> <a class=gb1 href=\"https://www.youtube.com/?gl=TW&tab=w1\">YouTube</a> <a class=gb1 href=\"https://news.google.com/?tab=wn\">&#26032;&#32862;</a> <a class=gb1 href=\"https://mail.google.com/mail/?tab=wm\">Gmail</a> <a class=gb1 href=\"https://drive.google.com/?tab=wo\">&#38642;&#31471;&#30828;&#30879;</a> <a class=gb1 style=\"text-decoration:none\" href=\"https://www.google.com.tw/intl/zh-TW/about/products?tab=wh\"><u>&#26356;&#22810;</u> &raquo;</a></nobr></div><div id=guser width=100%><nobr><span id=gbn class=gbi></span><span id=gbf class=gbf></span><span id=gbe></span><a href=\"http://www.google.com.tw/history/optout?hl=zh-TW\" class=gb4>&#32178;&#38913;&#35352;&#37636;</a> | <a  href=\"/preferences?hl=zh-TW\" class=gb4>&#35373;&#23450;</a> | <a target=_top id=gb_70 href=\"https://accounts.google.com/ServiceLogin?hl=zh-TW&passive=true&continue=https://www.google.com/&ec=GAZAAQ\" class=gb4>&#30331;&#20837;</a></nobr></div><div class=gbh style=left:0></div><div class=gbh style=right:0></div></div><center><br clear=\"all\" id=\"lgpd\"><div id=\"lga\"><img alt=\"Google\" height=\"92\" src=\"/images/branding/googlelogo/1x/googlelogo_white_background_color_272x92dp.png\" style=\"padding:28px 0 14px\" width=\"272\" id=\"hplogo\"><br><br></div><form action=\"/search\" name=\"f\"><table cellpadding=\"0\" cellspacing=\"0\"><tr valign=\"top\"><td width=\"25%\">&nbsp;</td><td align=\"center\" nowrap=\"\"><input name=\"ie\" value=\"ISO-8859-1\" type=\"hidden\"><input value=\"zh-TW\" name=\"hl\" type=\"hidden\"><input name=\"source\" type=\"hidden\" value=\"hp\"><input name=\"biw\" type=\"hidden\"><input name=\"bih\" type=\"hidden\"><div class=\"ds\" style=\"height:32px;margin:4px 0\"><input class=\"lst\" style=\"margin:0;padding:5px 8px 0 6px;vertical-align:top;color:#000\" autocomplete=\"off\" value=\"\" title=\"Google &#25628;&#23563;\" maxlength=\"2048\" name=\"q\" size=\"57\"></div><br style=\"line-height:0\"><span class=\"ds\"><span class=\"lsbb\"><input class=\"lsb\" value=\"Google &#25628;&#23563;\" name=\"btnG\" type=\"submit\"></span></span><span class=\"ds\"><span class=\"lsbb\"><input class=\"lsb\" id=\"tsuid1\" value=\"&#22909;&#25163;&#27683;\" name=\"btnI\" type=\"submit\"><script nonce=\"FphcaKC4pegqTYH2JKdbrQ==\">(function(){var id='tsuid1';document.getElementById(id).onclick = function(){if (this.form.q.value){this.checked = 1;if (this.form.iflsig)this.form.iflsig.disabled = false;}\n",
            "else top.location='/doodles/';};})();</script><input value=\"AINFCbYAAAAAYPV2KmraeNAp4v5MlqJhVvAZFM7rU7vz\" name=\"iflsig\" type=\"hidden\"></span></span></td><td class=\"fl sblc\" align=\"left\" nowrap=\"\" width=\"25%\"><a href=\"/advanced_search?hl=zh-TW&amp;authuser=0\">&#36914;&#38542;&#25628;&#23563;</a></td></tr></table><input id=\"gbv\" name=\"gbv\" type=\"hidden\" value=\"1\"><script nonce=\"FphcaKC4pegqTYH2JKdbrQ==\">(function(){\n",
            "var a,b=\"1\";if(document&&document.getElementById)if(\"undefined\"!=typeof XMLHttpRequest)b=\"2\";else if(\"undefined\"!=typeof ActiveXObject){var c,d,e=[\"MSXML2.XMLHTTP.6.0\",\"MSXML2.XMLHTTP.3.0\",\"MSXML2.XMLHTTP\",\"Microsoft.XMLHTTP\"];for(c=0;d=e[c++];)try{new ActiveXObject(d),b=\"2\"}catch(h){}}a=b;if(\"2\"==a&&-1==location.search.indexOf(\"&gbv=2\")){var f=google.gbvu,g=document.getElementById(\"gbv\");g&&(g.value=a);f&&window.setTimeout(function(){location.href=f},0)};}).call(this);</script></form><div id=\"gac_scont\"></div><div style=\"font-size:83%;min-height:3.5em\"><br></div><span id=\"footer\"><div style=\"font-size:10pt\"><div style=\"margin:19px auto;text-align:center\" id=\"WqQANb\"><a href=\"/intl/zh-TW/ads/\">&#24291;&#21578;&#26381;&#21209;</a><a href=\"http://www.google.com.tw/intl/zh-TW/services/\">&#21830;&#26989;&#35299;&#27770;&#26041;&#26696;</a><a href=\"/intl/zh-TW/about.html\">&#38364;&#26044; Google</a><a href=\"https://www.google.com/setprefdomain?prefdom=TW&amp;prev=https://www.google.com.tw/&amp;sig=K_NnAubMEXk2Pn1JBaJq7M0Ymkr4M%3D\">Google.com.tw</a></div></div><p style=\"font-size:8pt;color:#70757a\">&copy; 2021 - <a href=\"/intl/zh-TW/policies/privacy/\">&#38577;&#31169;&#27402;</a> - <a href=\"/intl/zh-TW/policies/terms/\">&#26381;&#21209;&#26781;&#27454;</a></p></span></center><script nonce=\"FphcaKC4pegqTYH2JKdbrQ==\">(function(){window.google.cdo={height:757,width:1440};(function(){\n",
            "var a=window.innerWidth,b=window.innerHeight;if(!a||!b){var c=window.document,d=\"CSS1Compat\"==c.compatMode?c.documentElement:c.body;a=d.clientWidth;b=d.clientHeight}a&&b&&(a!=google.cdo.width||b!=google.cdo.height)&&google.log(\"\",\"\",\"/client_204?&atyp=i&biw=\"+a+\"&bih=\"+b+\"&ei=\"+google.kEI);}).call(this);})();</script> <script nonce=\"FphcaKC4pegqTYH2JKdbrQ==\">(function(){google.xjs={ck:'',cs:'',excm:[],pml:false};})();</script>  <script nonce=\"FphcaKC4pegqTYH2JKdbrQ==\">(function(){var u='/xjs/_/js/k\\x3dxjs.hp.en.uG5gNub4OSM.O/m\\x3dsb_he,d/am\\x3dAHgCLA/d\\x3d1/ed\\x3d1/rs\\x3dACT90oFL0_2LwcQeUzXQMlVynx5KmR4twQ';\n",
            "var e=this||self,f=function(a){return a};var g;var l=function(a,b){this.g=b===h?a:\"\"};l.prototype.toString=function(){return this.g+\"\"};var h={};function m(){var a=u;google.lx=function(){n(a);google.lx=function(){}};google.bx||google.lx()}\n",
            "function n(a){google.timers&&google.timers.load&&google.tick&&google.tick(\"load\",\"xjsls\");var b=document;var c=\"SCRIPT\";\"application/xhtml+xml\"===b.contentType&&(c=c.toLowerCase());c=b.createElement(c);if(void 0===g){b=null;var k=e.trustedTypes;if(k&&k.createPolicy){try{b=k.createPolicy(\"goog#html\",{createHTML:f,createScript:f,createScriptURL:f})}catch(p){e.console&&e.console.error(p.message)}g=b}else g=b}a=(b=g)?b.createScriptURL(a):a;a=new l(a,h);c.src=a instanceof l&&a.constructor===l?a.g:\"type_error:TrustedResourceUrl\";var d;a=(c.ownerDocument&&c.ownerDocument.defaultView||window).document;(d=(a=null===(d=a.querySelector)||void 0===d?void 0:d.call(a,\"script[nonce]\"))?a.nonce||a.getAttribute(\"nonce\")||\"\":\"\")&&c.setAttribute(\"nonce\",d);document.body.appendChild(c);google.psa=!0};setTimeout(function(){m()},0);})();(function(){window.google.xjsu='/xjs/_/js/k\\x3dxjs.hp.en.uG5gNub4OSM.O/m\\x3dsb_he,d/am\\x3dAHgCLA/d\\x3d1/ed\\x3d1/rs\\x3dACT90oFL0_2LwcQeUzXQMlVynx5KmR4twQ';})();function _DumpException(e){throw e;}\n",
            "function _F_installCss(c){}\n",
            "(function(){google.jl={attn:false,blt:'none',chnk:0,dw:false,emtn:0,end:0,ine:false,lls:'default',pdt:0,rep:0,snet:true,strt:0,ubm:false,uwp:true};})();(function(){var pmc='{\\x22d\\x22:{},\\x22sb_he\\x22:{\\x22agen\\x22:true,\\x22cgen\\x22:true,\\x22client\\x22:\\x22heirloom-hp\\x22,\\x22dh\\x22:true,\\x22dhqt\\x22:true,\\x22ds\\x22:\\x22\\x22,\\x22ffql\\x22:\\x22zh-TW\\x22,\\x22fl\\x22:true,\\x22host\\x22:\\x22google.com\\x22,\\x22isbh\\x22:28,\\x22jsonp\\x22:true,\\x22msgs\\x22:{\\x22cibl\\x22:\\x22&#28165;&#38500;&#25628;&#23563;\\x22,\\x22dym\\x22:\\x22&#24744;&#26159;&#19981;&#26159;&#35201;&#26597;&#65306;\\x22,\\x22lcky\\x22:\\x22&#22909;&#25163;&#27683;\\x22,\\x22lml\\x22:\\x22&#30637;&#35299;&#35443;&#24773;\\x22,\\x22oskt\\x22:\\x22&#36664;&#20837;&#24037;&#20855;\\x22,\\x22psrc\\x22:\\x22&#24050;&#24478;&#24744;&#30340;&#12300;\\\\u003Ca href\\x3d\\\\\\x22/history\\\\\\x22\\\\u003E&#32178;&#38913;&#35352;&#37636;\\\\u003C/a\\\\u003E&#12301;&#20013;&#31227;&#38500;&#36889;&#31558;&#25628;&#23563;&#35352;&#37636;\\x22,\\x22psrl\\x22:\\x22&#31227;&#38500;\\x22,\\x22sbit\\x22:\\x22&#20197;&#22294;&#25628;&#23563;\\x22,\\x22srch\\x22:\\x22Google &#25628;&#23563;\\x22},\\x22ovr\\x22:{},\\x22pq\\x22:\\x22\\x22,\\x22refpd\\x22:true,\\x22refspre\\x22:true,\\x22rfs\\x22:[],\\x22sbas\\x22:\\x220 3px 8px 0 rgba(0,0,0,0.2),0 0 0 1px rgba(0,0,0,0.08)\\x22,\\x22sbpl\\x22:16,\\x22sbpr\\x22:16,\\x22scd\\x22:10,\\x22stok\\x22:\\x222p5Oc7nuRJMAro_E8a20gpbHaGE\\x22,\\x22uhde\\x22:false}}';google.pmc=JSON.parse(pmc);})();</script>        </body></html>\n"
          ],
          "name": "stdout"
        }
      ]
    },
    {
      "cell_type": "code",
      "metadata": {
        "id": "IHa6mbU6ntak"
      },
      "source": [
        " \n",
        "from flask import Flask,render_template\n",
        "app=Flask(__name__)\n",
        "print(app)\n",
        "@app.route(\"/\")\n",
        "def main():\n",
        "  return render_template(\"login.html')\n",
        "if__name__==\"__main__\":\n",
        "  app.run(host=\"127.0.0.1\",port=2500)"
      ],
      "execution_count": null,
      "outputs": []
    },
    {
      "cell_type": "markdown",
      "metadata": {
        "id": "9a67_N5zKj-8"
      },
      "source": [
        "Exercise-13 OPPS"
      ]
    },
    {
      "cell_type": "markdown",
      "metadata": {
        "id": "0gtgxDxCKlBB"
      },
      "source": [
        " a) Class variables and instance variable and illustration of the self-variable\n",
        " \n",
        "1) Robot"
      ]
    },
    {
      "cell_type": "code",
      "metadata": {
        "colab": {
          "base_uri": "https://localhost:8080/"
        },
        "id": "Yk3_os5YKz6Q",
        "outputId": "3e56496a-4d5e-45b9-ff71-9c9b73c7a4c2"
      },
      "source": [
        " \n",
        "class robot_design ():\n",
        "    name=\"chitti\"\n",
        "    speed=\"1ZB\"\n",
        "    memory=\"1TB\"\n",
        "    version=\"1.0\"\n",
        "    def update(self):\n",
        "        print(\"Entet your robot name,speed,memory,version\")\n",
        "        self.name=input()\n",
        "        self.speed=input()\n",
        "        self.memory=input()\n",
        "        self.version=input()\n",
        "    def display(self):\n",
        "        print(\"Your robot name,speed,memory,version is ::\",self.name,self.speed,self.memory,self.version)\n",
        " \n",
        "r=robot_design()\n",
        "r.update()\n",
        "r.display()"
      ],
      "execution_count": null,
      "outputs": [
        {
          "output_type": "stream",
          "text": [
            "Entet your robot name,speed,memory,version\n",
            "Sai\n",
            "2ZB\n",
            "3TB\n",
            "3.0\n",
            "Your robot name,speed,memory,version is :: Sai 2ZB 3TB 3.0\n"
          ],
          "name": "stdout"
        }
      ]
    },
    {
      "cell_type": "markdown",
      "metadata": {
        "id": "XkiwdkUYNeNy"
      },
      "source": [
        " 2) ATM machine"
      ]
    },
    {
      "cell_type": "code",
      "metadata": {
        "colab": {
          "base_uri": "https://localhost:8080/"
        },
        "id": "aek0eXRZNjDA",
        "outputId": "c0dba74c-8cc7-432a-cffc-984e1a8b7019"
      },
      "source": [
        " \n",
        "class ATM :\n",
        "    def __init__(self):\n",
        "        self.balance=1000\n",
        "        print(\"New account\")\n",
        "    def check_balance(self):\n",
        "          print(\"The balance in your account is ::\",self.balance)\n",
        "    def withdraw_balance(self):\n",
        "        print(\"Enter balance to withdraw\")\n",
        "        self.amount=int(input())\n",
        "        if self.amount>self.balance:\n",
        "            print(\"Insuffient amount\")\n",
        "        else:\n",
        "            self.balance-=self.amount\n",
        "            self.check_balance()\n",
        "    def deposite_balance(self):\n",
        "        print(\"Enter balance to deposite\")\n",
        "        self.amount=int(input())\n",
        "        self.balance=self.balance+self.amount\n",
        "        self.check_balance()\n",
        "print(\"Enter     1 for balance checking\\n 2 for balance withdraw\\n 3 for balance deposite\\n\")\n",
        "a=ATM()\n",
        "while (True):\n",
        "    choice=int(input(\"Enter your choice\"))\n",
        "    if choice==1:\n",
        "        a.check_balance()\n",
        "    elif choice==2:\n",
        "        a.withdraw_balance()\n",
        "    elif choice==3:\n",
        "        a.deposite_balance()\n",
        "    else:\n",
        "        print(\"Invalid choice\")\n",
        "        break"
      ],
      "execution_count": null,
      "outputs": [
        {
          "output_type": "stream",
          "text": [
            "Enter     1 for balance checking\n",
            " 2 for balance withdraw\n",
            " 3 for balance deposite\n",
            "\n",
            "New account\n",
            "Enter your choice1\n",
            "The balance in your account is :: 1000\n",
            "Enter your choice2\n",
            "Enter balance to withdraw\n",
            "500\n",
            "The balance in your account is :: 500\n",
            "Enter your choice3\n",
            "Enter balance to deposite\n",
            "35000\n",
            "The balance in your account is :: 35500\n",
            "Enter your choice6\n",
            "Invalid choice\n"
          ],
          "name": "stdout"
        }
      ]
    },
    {
      "cell_type": "markdown",
      "metadata": {
        "id": "zuPi4PRnoOYw"
      },
      "source": [
        " Exercise - 14\n",
        " \n",
        " GUI, Graphics\n",
        " \n",
        "1. Write a GUI for an Expression Calculator using tk\n",
        " \n",
        "2. Write a program to implement the following figures using turtle"
      ]
    },
    {
      "cell_type": "code",
      "metadata": {
        "id": "Sz62cBv0reH6"
      },
      "source": [
        " \n",
        "#14A.\n",
        "from tkinter import *\n",
        " \n",
        "win = Tk() # to create a basic window\n",
        "win.geometry(\"312x324\")  #for the size of the window \n",
        "win.resizable(0, 0)  # to prevent from resizing the window\n",
        "win.title(\"Calculator\")\n",
        " \n",
        "# 'btn_click' Function continuously updates the \n",
        "# input field whenever you enters a number\n",
        " \n",
        "def btn_click(item):\n",
        "    global expression\n",
        "    expression = expression + str(item)\n",
        "    input_text.set(expression)\n",
        " \n",
        "# 'bt_clear' function : used to clear the input field\n",
        " \n",
        "def bt_clear(): \n",
        "    global expression \n",
        "    expression = \"\"\n",
        "    input_text.set(\"\")\n",
        " \n",
        "# 'bt_equal':calculates the expression present in input field\n",
        " \n",
        "def bt_equal():\n",
        "    global expression\n",
        "    result = str(eval(expression)) # 'eval':This function is used to evaluates the string expression directly\n",
        "    input_text.set(result)\n",
        "    expression = \"\"\n",
        " \n",
        "expression = \"\"\n",
        " \n",
        "# 'StringVar()' :used to get the instance of input field\n",
        " \n",
        "input_text = StringVar()\n",
        " \n",
        "# creating a frame for the input field\n",
        " \n",
        "input_frame = Frame(win, width=312, height=50, bd=0, highlightbackground=\"black\", highlightcolor=\"black\", highlightthickness=2)\n",
        " \n",
        "input_frame.pack(side=TOP)\n",
        " \n",
        "#create a input field inside the 'Frame'\n",
        " \n",
        "input_field = Entry(input_frame, font=('arial', 18, 'bold'), textvariable=input_text, width=50, bg=\"#eee\", bd=0, justify=RIGHT)\n",
        " \n",
        "input_field.grid(row=0, column=0)\n",
        " \n",
        "input_field.pack(ipady=10)\n",
        "# 'ipady' is internal padding to increase the height of input field\n",
        " \n",
        "#creating another 'Frame' for the button below the 'input_frame'\n",
        " \n",
        "btns_frame = Frame(win, width=312, height=272.5, bg=\"grey\")\n",
        " \n",
        "btns_frame.pack()\n",
        " \n",
        "# first row\n",
        " \n",
        "clear = Button(btns_frame, text = \"C\", fg = \"black\", width = 32, height = 3, bd = 0, bg = \"#eee\", cursor = \"hand2\", command = lambda: bt_clear()).grid(row = 0, column = 0, columnspan = 3, padx = 1, pady = 1)\n",
        " \n",
        "divide = Button(btns_frame, text = \"/\", fg = \"black\", width = 10, height = 3, bd = 0, bg = \"#eee\", cursor = \"hand2\", command = lambda: btn_click(\"/\")).grid(row = 0, column = 3, padx = 1, pady = 1)\n",
        " \n",
        "# second row\n",
        " \n",
        "seven = Button(btns_frame, text = \"7\", fg = \"black\", width = 10, height = 3, bd = 0, bg = \"#fff\", cursor = \"hand2\", command = lambda: btn_click(7)).grid(row = 1, column = 0, padx = 1, pady = 1)\n",
        " \n",
        "eight = Button(btns_frame, text = \"8\", fg = \"black\", width = 10, height = 3, bd = 0, bg = \"#fff\", cursor = \"hand2\", command = lambda: btn_click(8)).grid(row = 1, column = 1, padx = 1, pady = 1)\n",
        " \n",
        "nine = Button(btns_frame, text = \"9\", fg = \"black\", width = 10, height = 3, bd = 0, bg = \"#fff\", cursor = \"hand2\", command = lambda: btn_click(9)).grid(row = 1, column = 2, padx = 1, pady = 1)\n",
        " \n",
        "multiply = Button(btns_frame, text = \"\", fg = \"black\", width = 10, height = 3, bd = 0, bg = \"#eee\", cursor = \"hand2\", command = lambda: btn_click(\"\")).grid(row = 1, column = 3, padx = 1, pady = 1)\n",
        " \n",
        "# third row\n",
        " \n",
        "four = Button(btns_frame, text = \"4\", fg = \"black\", width = 10, height = 3, bd = 0, bg = \"#fff\", cursor = \"hand2\", command = lambda: btn_click(4)).grid(row = 2, column = 0, padx = 1, pady = 1)\n",
        " \n",
        "five = Button(btns_frame, text = \"5\", fg = \"black\", width = 10, height = 3, bd = 0, bg = \"#fff\", cursor = \"hand2\", command = lambda: btn_click(5)).grid(row = 2, column = 1, padx = 1, pady = 1)\n",
        " \n",
        "six = Button(btns_frame, text = \"6\", fg = \"black\", width = 10, height = 3, bd = 0, bg = \"#fff\", cursor = \"hand2\", command = lambda: btn_click(6)).grid(row = 2, column = 2, padx = 1, pady = 1)\n",
        " \n",
        "minus = Button(btns_frame, text = \"-\", fg = \"black\", width = 10, height = 3, bd = 0, bg = \"#eee\", cursor = \"hand2\", command = lambda: btn_click(\"-\")).grid(row = 2, column = 3, padx = 1, pady = 1)\n",
        " \n",
        "# fourth row\n",
        " \n",
        "one = Button(btns_frame, text = \"1\", fg = \"black\", width = 10, height = 3, bd = 0, bg = \"#fff\", cursor = \"hand2\", command = lambda: btn_click(1)).grid(row = 3, column = 0, padx = 1, pady = 1)\n",
        " \n",
        "two = Button(btns_frame, text = \"2\", fg = \"black\", width = 10, height = 3, bd = 0, bg = \"#fff\", cursor = \"hand2\", command = lambda: btn_click(2)).grid(row = 3, column = 1, padx = 1, pady = 1)\n",
        " \n",
        "three = Button(btns_frame, text = \"3\", fg = \"black\", width = 10, height = 3, bd = 0, bg = \"#fff\", cursor = \"hand2\", command = lambda: btn_click(3)).grid(row = 3, column = 2, padx = 1, pady = 1)\n",
        " \n",
        "plus = Button(btns_frame, text = \"+\", fg = \"black\", width = 10, height = 3, bd = 0, bg = \"#eee\", cursor = \"hand2\", command = lambda: btn_click(\"+\")).grid(row = 3, column = 3, padx = 1, pady = 1)\n",
        " \n",
        "# fifth row\n",
        " \n",
        "zero = Button(btns_frame, text = \"0\", fg = \"black\", width = 21, height = 3, bd = 0, bg = \"#fff\", cursor = \"hand2\", command = lambda: btn_click(0)).grid(row = 4, column = 0, columnspan = 2, padx = 1, pady = 1)\n",
        " \n",
        "point = Button(btns_frame, text = \".\", fg = \"black\", width = 10, height = 3, bd = 0, bg = \"#eee\", cursor = \"hand2\", command = lambda: btn_click(\".\")).grid(row = 4, column = 2, padx = 1, pady = 1)\n",
        " \n",
        "equals = Button(btns_frame, text = \"=\", fg = \"black\", width = 10, height = 3, bd = 0, bg = \"#eee\", cursor = \"hand2\", command = lambda: bt_equal()).grid(row = 4, column = 3, padx = 1, pady = 1)\n",
        " \n",
        "win.mainloop()"
      ],
      "execution_count": null,
      "outputs": []
    },
    {
      "cell_type": "code",
      "metadata": {
        "id": "-N_AYXIhoZoQ"
      },
      "source": [
        " \n",
        "import turtle\n",
        "c=[\"red\",\"green\",\"blue\"]\n",
        "i=0\n",
        "turtle.pensize(5)\n",
        " \n",
        "for angle in range(0,360,30):\n",
        "    if i>2:\n",
        "        i=0\n",
        "    turtle.color(c[i])\n",
        "    turtle.seth(angle)\n",
        "    turtle.circle(50)\n",
        "    i+=1"
      ],
      "execution_count": null,
      "outputs": []
    },
    {
      "cell_type": "code",
      "metadata": {
        "id": "q5ZRpyCRpOHJ"
      },
      "source": [
        " \n",
        "import turtle\n",
        "turtle.pensize(1)\n",
        " \n",
        "for i in range(36):\n",
        "    for j in range(4):\n",
        "        turtle.forward(70)\n",
        "        turtle.left(90)\n",
        "    turtle.left(10)"
      ],
      "execution_count": null,
      "outputs": []
    },
    {
      "cell_type": "markdown",
      "metadata": {
        "id": "qJyUYi0dJWo0"
      },
      "source": [
        "Excerise-15 Testing"
      ]
    },
    {
      "cell_type": "markdown",
      "metadata": {
        "id": "nH24EPhoJcTV"
      },
      "source": [
        "a) Write a test case to check the function even numbers which return Ture on passing a list of all even number"
      ]
    },
    {
      "cell_type": "code",
      "metadata": {
        "colab": {
          "base_uri": "https://localhost:8080/"
        },
        "id": "nsrsXMHxJvK6",
        "outputId": "031d501e-cc50-4434-cc91-5a84133e3097"
      },
      "source": [
        " \n",
        " \n",
        " \n",
        "def check_list(list1):\n",
        "     n=len(list1)\n",
        "     count=0\n",
        "     for i in range(0,n):\n",
        "        if list1[i]%2==0:\n",
        "            count=count+1\n",
        "     if count==n:\n",
        "        return True\n",
        "     else:\n",
        "        return False\n",
        "lista=[]\n",
        "n=int(input(\"Enter your lists size\"))\n",
        "print(\"Enter your data\")\n",
        "for i in range(0,n): \n",
        "  x=int(input())\n",
        "  lista.append(x)\n",
        "if(check_list(lista)):\n",
        "    print(\"Every element in an list is even\")\n",
        "else:\n",
        "    print(\"Every element in an list is not not even \")"
      ],
      "execution_count": null,
      "outputs": [
        {
          "output_type": "stream",
          "text": [
            "Enter your lists size5\n",
            "Enter your data\n",
            "5\n",
            "8\n",
            "6\n",
            "10\n",
            "4\n",
            "Every element in an list is not not even \n"
          ],
          "name": "stdout"
        }
      ]
    },
    {
      "cell_type": "markdown",
      "metadata": {
        "id": "Y7avooBIKFAZ"
      },
      "source": [
        "b) Write a test case to check the function reserve which returns the reverse string"
      ]
    },
    {
      "cell_type": "code",
      "metadata": {
        "colab": {
          "base_uri": "https://localhost:8080/"
        },
        "id": "3T0ExU8CKQq9",
        "outputId": "a1539efe-e88f-41fe-e85e-d18ff1d02ec7"
      },
      "source": [
        "def reverse_string (str):\n",
        "    return str [::-1]\n",
        "str=input (\"Enter the string\")\n",
        "print (\"The given string before calling reverse function\",str)\n",
        "print (\"The given string after calling reverse function is\", reverse_string(str))"
      ],
      "execution_count": null,
      "outputs": [
        {
          "output_type": "stream",
          "text": [
            "Enter the stringSai\n",
            "The given string before calling reverse function Sai\n",
            "The given string after calling reverse function is iaS\n"
          ],
          "name": "stdout"
        }
      ]
    },
    {
      "cell_type": "markdown",
      "metadata": {
        "id": "OdnQh1qapys1"
      },
      "source": [
        " Exercise - 16 - Advanced\n",
        " \n",
        " \n",
        "a) Build any one classical data structure.\n",
        " \n",
        "b) Write a program to solve knapsack problem"
      ]
    },
    {
      "cell_type": "code",
      "metadata": {
        "id": "_fK7wU85p0ub"
      },
      "source": [
        " \n",
        "import sys\n",
        "a=[]\n",
        "while True: \n",
        "print(\"1.PUSH 2.POP 3.DISPLAY 4.EXIT\")\n",
        " ch=int(input(\"Enter Your Choice: \"))\n",
        "if ch==1:\n",
        "    ele=int(input(\"Enter element: \"))\n",
        "    a.append(ele).\n",
        "    print (\"Inserted\") \n",
        "elif ch==2:\n",
        "  if len(a)==0: \n",
        "     print(\"\\t STACK IS EMPTY\")\n",
        "  else:\n",
        "     print(\"Deleted element is: \", a[len(a)-1])\n",
        "     a.remove (a [len (a) -1])\n",
        "elif ch==3:\n",
        "  if len(a)==0:\n",
        "     print(\"\\t STACK IS EMPTY\")\n",
        "  else:\n",
        "     print(\"\\tThe Elements in Stack is: \") \n",
        "     for i in reversed(a):\n",
        "       print (i)\n",
        "elif ch==4: \n",
        "   sys.exit()\n",
        "else: \n",
        "   print(\"\\tINVALID CHOICE\")"
      ],
      "execution_count": null,
      "outputs": []
    },
    {
      "cell_type": "code",
      "metadata": {
        "id": "V0_pGyy2qLEP"
      },
      "source": [
        " def knapSack(W,wt,val,n): \n",
        " K=[[0 for x in range(W+1)] for x in range(n+1)]\n",
        "for i in range(n+1):\n",
        "  for w in range(W+1):\n",
        "   if i==0orw==0:\n",
        "      K[i][w]=0\n",
        "   elif wt[i-1]<=w:\n",
        "      K[i][w]=max(val[i-1]+ K[i-1][w-wt[i-1]],K[i-1][w]) \n",
        "   else:\n",
        "      K[i][w]=K[i-1][w]\n",
        "return K[n][W]\n",
        "val= [5,3,4]\n",
        "wt=[3,2,1]\n",
        "W=5 \n",
        "n=len(val)\n",
        "print(\"Maximum value knapsack of capacity W: \",knapSack(W, wt, val, n))"
      ],
      "execution_count": null,
      "outputs": []
    },
    {
      "cell_type": "markdown",
      "metadata": {
        "id": "6ngv9IndMcec"
      },
      "source": [
        "Exercise-17 Data analysis"
      ]
    },
    {
      "cell_type": "markdown",
      "metadata": {
        "id": "2go4EGJdMhpm"
      },
      "source": [
        "Data analysis for manipulation using the following packages"
      ]
    },
    {
      "cell_type": "markdown",
      "metadata": {
        "id": "cdVZ3IkzMn2J"
      },
      "source": [
        "a) Numpy Package"
      ]
    },
    {
      "cell_type": "code",
      "metadata": {
        "colab": {
          "base_uri": "https://localhost:8080/"
        },
        "id": "s9hpYNzMMsU4",
        "outputId": "3ad5d9d5-54f7-4db5-c972-4a53b0e9bbee"
      },
      "source": [
        "import numpy as np\n",
        "a=np.array([0,1,2])\n",
        "print (type(a))\n",
        "print (a.shape)\n",
        "print (a[0])\n",
        "print (a[1])\n",
        "print (a[2])\n",
        "a[0]=5\n",
        "print (a)\n",
        "print (\"Creating 3x3 identity matrix\")\n",
        "e=np.eye(3)\n",
        "print (e)"
      ],
      "execution_count": null,
      "outputs": [
        {
          "output_type": "stream",
          "text": [
            "<class 'numpy.ndarray'>\n",
            "(3,)\n",
            "0\n",
            "1\n",
            "2\n",
            "[5 1 2]\n",
            "Creating 3x3 identity matrix\n",
            "[[1. 0. 0.]\n",
            " [0. 1. 0.]\n",
            " [0. 0. 1.]]\n"
          ],
          "name": "stdout"
        }
      ]
    },
    {
      "cell_type": "markdown",
      "metadata": {
        "id": "dw1misnMLoQb"
      },
      "source": [
        " b) Pandas package"
      ]
    },
    {
      "cell_type": "markdown",
      "metadata": {
        "id": "DVwuMFDvOh8r"
      },
      "source": [
        "Series"
      ]
    },
    {
      "cell_type": "code",
      "metadata": {
        "colab": {
          "base_uri": "https://localhost:8080/"
        },
        "id": "TbvwHjinLtAw",
        "outputId": "28d7e263-c9ca-4bda-e75b-2187aafb439e"
      },
      "source": [
        "import pandas as pd\n",
        "s=pd.Series([1,2,3,4,5],index=['A','B','C','D','E'])\n",
        "print(s)"
      ],
      "execution_count": null,
      "outputs": [
        {
          "output_type": "stream",
          "text": [
            "A    1\n",
            "B    2\n",
            "C    3\n",
            "D    4\n",
            "E    5\n",
            "dtype: int64\n"
          ],
          "name": "stdout"
        }
      ]
    },
    {
      "cell_type": "markdown",
      "metadata": {
        "id": "VtHfhCQfOuVJ"
      },
      "source": [
        " Data Frames"
      ]
    },
    {
      "cell_type": "code",
      "metadata": {
        "colab": {
          "base_uri": "https://localhost:8080/",
          "height": 142
        },
        "id": "uL9lqmm6MxbK",
        "outputId": "20717e88-964f-4775-d50c-c511c4c744c3"
      },
      "source": [
        "#creating data frame\n",
        "import pandas as pd\n",
        "data={'Gen':['F','M','M'],'EiD':['E01','E02','E03'],'Age':[25,56,49]}\n",
        "df=pd.DataFrame(data, columns= ['EiD','Age','Gen'])\n",
        "df"
      ],
      "execution_count": null,
      "outputs": [
        {
          "output_type": "execute_result",
          "data": {
            "text/html": [
              "<div>\n",
              "<style scoped>\n",
              "    .dataframe tbody tr th:only-of-type {\n",
              "        vertical-align: middle;\n",
              "    }\n",
              "\n",
              "    .dataframe tbody tr th {\n",
              "        vertical-align: top;\n",
              "    }\n",
              "\n",
              "    .dataframe thead th {\n",
              "        text-align: right;\n",
              "    }\n",
              "</style>\n",
              "<table border=\"1\" class=\"dataframe\">\n",
              "  <thead>\n",
              "    <tr style=\"text-align: right;\">\n",
              "      <th></th>\n",
              "      <th>EiD</th>\n",
              "      <th>Age</th>\n",
              "      <th>Gen</th>\n",
              "    </tr>\n",
              "  </thead>\n",
              "  <tbody>\n",
              "    <tr>\n",
              "      <th>0</th>\n",
              "      <td>E01</td>\n",
              "      <td>25</td>\n",
              "      <td>F</td>\n",
              "    </tr>\n",
              "    <tr>\n",
              "      <th>1</th>\n",
              "      <td>E02</td>\n",
              "      <td>56</td>\n",
              "      <td>M</td>\n",
              "    </tr>\n",
              "    <tr>\n",
              "      <th>2</th>\n",
              "      <td>E03</td>\n",
              "      <td>49</td>\n",
              "      <td>M</td>\n",
              "    </tr>\n",
              "  </tbody>\n",
              "</table>\n",
              "</div>"
            ],
            "text/plain": [
              "   EiD  Age Gen\n",
              "0  E01   25   F\n",
              "1  E02   56   M\n",
              "2  E03   49   M"
            ]
          },
          "metadata": {
            "tags": []
          },
          "execution_count": 5
        }
      ]
    },
    {
      "cell_type": "markdown",
      "metadata": {
        "id": "DDTte6XZPAl3"
      },
      "source": [
        " Exercise-18 Data analysis"
      ]
    },
    {
      "cell_type": "markdown",
      "metadata": {
        "id": "Gi8mwOsDQIaK"
      },
      "source": [
        " Data analysis for manipulation using the following packages"
      ]
    },
    {
      "cell_type": "markdown",
      "metadata": {
        "id": "tX9qvY4jQQtO"
      },
      "source": [
        "a) Script Package"
      ]
    },
    {
      "cell_type": "code",
      "metadata": {
        "colab": {
          "base_uri": "https://localhost:8080/"
        },
        "id": "yteI4jk_QVRb",
        "outputId": "8dbf4cc6-7821-44e0-e958-3db22c554da1"
      },
      "source": [
        "from scipy.cluster.vq import kmeans,vq,whiten\n",
        "from numpy import vstack, array\n",
        "from numpy.random import rand\n",
        "data=vstack ((rand(100,3)+array ([.5,.5,.5]),rand(100,3)))\n",
        "data"
      ],
      "execution_count": null,
      "outputs": [
        {
          "output_type": "execute_result",
          "data": {
            "text/plain": [
              "array([[7.09881246e-01, 9.92595283e-01, 1.48113748e+00],\n",
              "       [1.34808877e+00, 9.89283408e-01, 5.70672968e-01],\n",
              "       [1.17078903e+00, 1.48500519e+00, 1.15547685e+00],\n",
              "       [1.11518314e+00, 1.14764412e+00, 6.10598749e-01],\n",
              "       [7.31647818e-01, 1.18807043e+00, 1.43584506e+00],\n",
              "       [1.14125556e+00, 5.98927826e-01, 5.99375977e-01],\n",
              "       [1.48728918e+00, 1.42327047e+00, 7.30015158e-01],\n",
              "       [8.34594418e-01, 1.25095569e+00, 1.03344787e+00],\n",
              "       [9.56098396e-01, 1.35611748e+00, 1.20597110e+00],\n",
              "       [1.03096937e+00, 1.27407875e+00, 7.91960090e-01],\n",
              "       [1.29963886e+00, 6.37136004e-01, 5.83014145e-01],\n",
              "       [1.19386124e+00, 7.23533339e-01, 1.06955972e+00],\n",
              "       [7.49266401e-01, 1.11571672e+00, 7.86475931e-01],\n",
              "       [1.42162255e+00, 1.34976680e+00, 8.02461649e-01],\n",
              "       [1.12389425e+00, 1.44924736e+00, 7.83210317e-01],\n",
              "       [6.49514786e-01, 1.35793015e+00, 8.29469005e-01],\n",
              "       [1.07552923e+00, 8.50831587e-01, 1.10748319e+00],\n",
              "       [1.28459308e+00, 9.43098843e-01, 1.05778535e+00],\n",
              "       [7.77531707e-01, 6.61251176e-01, 5.28344412e-01],\n",
              "       [7.80718069e-01, 1.34350834e+00, 1.17740626e+00],\n",
              "       [5.25993625e-01, 6.89992888e-01, 1.37381335e+00],\n",
              "       [9.34678536e-01, 1.47559440e+00, 9.96369907e-01],\n",
              "       [1.45497089e+00, 1.38249954e+00, 1.27755108e+00],\n",
              "       [9.07561595e-01, 1.46566124e+00, 9.75957265e-01],\n",
              "       [7.82293431e-01, 1.11301862e+00, 8.70406522e-01],\n",
              "       [7.14323013e-01, 1.19687656e+00, 8.48812102e-01],\n",
              "       [1.45429688e+00, 1.17429079e+00, 1.24223632e+00],\n",
              "       [1.25356827e+00, 1.01359150e+00, 1.37257977e+00],\n",
              "       [6.85227742e-01, 6.16391678e-01, 1.49534039e+00],\n",
              "       [1.22672541e+00, 1.43050313e+00, 7.86298571e-01],\n",
              "       [1.07129518e+00, 6.48422951e-01, 6.93606472e-01],\n",
              "       [7.42875479e-01, 1.22057329e+00, 1.00811712e+00],\n",
              "       [5.42014395e-01, 7.28455498e-01, 9.55065700e-01],\n",
              "       [1.18126750e+00, 1.45065535e+00, 1.34074324e+00],\n",
              "       [1.23799958e+00, 6.88686608e-01, 1.47436148e+00],\n",
              "       [7.38906286e-01, 1.18764200e+00, 1.40424099e+00],\n",
              "       [6.33340828e-01, 7.99581953e-01, 1.13262340e+00],\n",
              "       [1.21648677e+00, 8.52735483e-01, 1.27824159e+00],\n",
              "       [1.19391440e+00, 8.02127489e-01, 7.67010468e-01],\n",
              "       [5.15555334e-01, 1.12940901e+00, 6.06662215e-01],\n",
              "       [1.41612693e+00, 1.00478987e+00, 1.28973418e+00],\n",
              "       [9.26462906e-01, 9.62078567e-01, 6.50576904e-01],\n",
              "       [5.34801412e-01, 1.46751786e+00, 9.49183718e-01],\n",
              "       [1.36018823e+00, 1.41864025e+00, 7.12777841e-01],\n",
              "       [7.65643372e-01, 1.14428198e+00, 5.45967330e-01],\n",
              "       [1.44459623e+00, 1.21249663e+00, 8.42901009e-01],\n",
              "       [7.79475028e-01, 1.22270866e+00, 9.34587155e-01],\n",
              "       [7.41102143e-01, 9.74540852e-01, 8.56699899e-01],\n",
              "       [1.06854499e+00, 1.09867577e+00, 1.13394910e+00],\n",
              "       [1.27094544e+00, 1.06187394e+00, 1.18565198e+00],\n",
              "       [8.91104061e-01, 1.23507217e+00, 1.37279694e+00],\n",
              "       [9.23806977e-01, 7.13667467e-01, 1.15155496e+00],\n",
              "       [1.37626701e+00, 7.57456310e-01, 9.37046178e-01],\n",
              "       [1.28384673e+00, 8.25639751e-01, 7.91301899e-01],\n",
              "       [6.51934641e-01, 1.34541215e+00, 7.43869428e-01],\n",
              "       [1.33978906e+00, 1.10408643e+00, 8.76387999e-01],\n",
              "       [9.66549490e-01, 1.13409137e+00, 8.55685603e-01],\n",
              "       [1.30932731e+00, 1.42570272e+00, 1.05853639e+00],\n",
              "       [5.18642425e-01, 1.17797400e+00, 5.11000952e-01],\n",
              "       [1.16282139e+00, 6.59400450e-01, 7.78743129e-01],\n",
              "       [1.40412747e+00, 5.24863517e-01, 1.27835327e+00],\n",
              "       [1.01496235e+00, 1.10118706e+00, 1.18345419e+00],\n",
              "       [6.37261202e-01, 1.24454533e+00, 5.93422457e-01],\n",
              "       [6.14394838e-01, 6.17954680e-01, 5.51870170e-01],\n",
              "       [1.03479011e+00, 1.36582376e+00, 1.06843486e+00],\n",
              "       [1.22755133e+00, 6.50731407e-01, 5.66619306e-01],\n",
              "       [5.76859173e-01, 9.98915069e-01, 8.60884095e-01],\n",
              "       [6.54366206e-01, 8.74250819e-01, 1.07412570e+00],\n",
              "       [8.24655310e-01, 1.02133967e+00, 9.63148231e-01],\n",
              "       [7.41400258e-01, 1.20523707e+00, 8.47131204e-01],\n",
              "       [8.10076476e-01, 1.23323462e+00, 7.31960561e-01],\n",
              "       [7.00940731e-01, 1.12439106e+00, 9.94764323e-01],\n",
              "       [1.46694140e+00, 8.47640402e-01, 9.24389493e-01],\n",
              "       [7.43201875e-01, 1.22056770e+00, 6.68055977e-01],\n",
              "       [1.32804053e+00, 8.49228799e-01, 1.34096536e+00],\n",
              "       [1.32607125e+00, 8.14792949e-01, 5.58898536e-01],\n",
              "       [1.49520960e+00, 1.18714786e+00, 7.34729906e-01],\n",
              "       [1.13927428e+00, 8.53456185e-01, 1.16314368e+00],\n",
              "       [1.12886153e+00, 8.61388555e-01, 1.29327718e+00],\n",
              "       [5.23346780e-01, 5.50890236e-01, 9.38211949e-01],\n",
              "       [1.22662745e+00, 5.78888903e-01, 1.38659535e+00],\n",
              "       [1.23579033e+00, 1.33661139e+00, 8.02339978e-01],\n",
              "       [5.87751529e-01, 6.11255838e-01, 1.06545820e+00],\n",
              "       [1.47782388e+00, 1.24485584e+00, 9.27320925e-01],\n",
              "       [1.07622564e+00, 8.40370531e-01, 1.05820958e+00],\n",
              "       [9.80633417e-01, 1.15509366e+00, 1.07088248e+00],\n",
              "       [9.62993487e-01, 5.75070240e-01, 9.67672423e-01],\n",
              "       [6.23022984e-01, 6.08075194e-01, 1.00723868e+00],\n",
              "       [5.45018918e-01, 1.08557972e+00, 1.16227216e+00],\n",
              "       [1.34860364e+00, 1.30380992e+00, 6.66756487e-01],\n",
              "       [1.35740161e+00, 5.91039940e-01, 1.22990063e+00],\n",
              "       [1.49511662e+00, 7.92878472e-01, 7.82051136e-01],\n",
              "       [1.19408164e+00, 1.19390126e+00, 1.32857134e+00],\n",
              "       [1.04420113e+00, 1.40209583e+00, 1.44227416e+00],\n",
              "       [5.52434926e-01, 1.36917083e+00, 7.44576283e-01],\n",
              "       [6.57236010e-01, 1.31471032e+00, 7.76267712e-01],\n",
              "       [1.11581304e+00, 6.20014552e-01, 1.20971074e+00],\n",
              "       [1.15368172e+00, 1.11700749e+00, 7.24188205e-01],\n",
              "       [7.15686172e-01, 1.19643092e+00, 1.41853718e+00],\n",
              "       [9.96441960e-01, 5.19325122e-01, 1.24977866e+00],\n",
              "       [9.41555289e-01, 5.57740427e-01, 4.05738695e-01],\n",
              "       [9.32081829e-01, 5.62368245e-01, 5.12505687e-02],\n",
              "       [2.22204405e-01, 9.10832254e-01, 2.80393953e-01],\n",
              "       [7.40277691e-01, 6.84709650e-01, 9.63039325e-01],\n",
              "       [6.69256239e-01, 9.59217135e-01, 5.79113232e-01],\n",
              "       [4.02451845e-01, 4.35313741e-01, 6.84377354e-01],\n",
              "       [4.29502628e-01, 9.61166285e-01, 7.64640368e-01],\n",
              "       [6.94380973e-01, 7.74085145e-01, 2.99998573e-01],\n",
              "       [2.54072316e-01, 2.50588571e-01, 8.96815195e-01],\n",
              "       [3.54132543e-02, 3.96919579e-01, 7.23175189e-01],\n",
              "       [2.64734793e-01, 6.70685057e-01, 1.10924481e-01],\n",
              "       [6.73053299e-01, 4.30075818e-01, 3.44140864e-01],\n",
              "       [8.84158711e-01, 3.08269587e-01, 3.36127638e-02],\n",
              "       [8.20492545e-02, 4.81855747e-01, 6.58144118e-01],\n",
              "       [3.36944623e-01, 1.21756778e-01, 7.04846465e-01],\n",
              "       [6.02017366e-01, 8.60939606e-01, 4.20240905e-02],\n",
              "       [9.44846509e-01, 6.57706922e-01, 3.51164453e-01],\n",
              "       [7.53027853e-01, 6.75830026e-01, 9.24135612e-01],\n",
              "       [7.97616671e-01, 7.65707925e-01, 4.96938890e-01],\n",
              "       [4.15411410e-01, 9.35323535e-01, 1.94705565e-01],\n",
              "       [8.09130149e-01, 9.61648469e-01, 5.50382798e-01],\n",
              "       [1.28166976e-01, 2.75728954e-01, 6.12826969e-01],\n",
              "       [3.70113053e-02, 4.90642136e-01, 4.61868964e-01],\n",
              "       [3.70710308e-01, 8.37377252e-01, 9.68496569e-04],\n",
              "       [7.74058613e-01, 9.91462471e-01, 9.27151233e-01],\n",
              "       [7.99565753e-01, 4.52938758e-02, 9.27239869e-01],\n",
              "       [5.01688171e-01, 5.66211640e-01, 6.20596320e-01],\n",
              "       [5.96903442e-01, 4.87221000e-01, 5.18173004e-01],\n",
              "       [8.44241066e-01, 2.91781379e-01, 6.52843848e-01],\n",
              "       [8.94937868e-01, 8.55289642e-01, 9.39330272e-01],\n",
              "       [8.13199269e-01, 7.82602753e-02, 9.98189559e-01],\n",
              "       [4.12547317e-01, 6.30277304e-01, 2.46717559e-01],\n",
              "       [6.94627958e-01, 8.98527057e-02, 2.47481858e-01],\n",
              "       [9.54355717e-01, 3.13008081e-01, 9.83041553e-01],\n",
              "       [1.38325419e-01, 7.44831973e-01, 6.53394317e-01],\n",
              "       [8.06857109e-01, 3.08119157e-02, 2.83213792e-01],\n",
              "       [4.33165697e-01, 4.01730857e-01, 9.30320287e-01],\n",
              "       [6.47421362e-01, 3.65564516e-02, 1.28506600e-02],\n",
              "       [9.06525389e-01, 6.07970190e-01, 6.46737589e-01],\n",
              "       [7.47986734e-01, 6.84876701e-01, 1.52672007e-01],\n",
              "       [7.05835103e-01, 1.52074076e-01, 8.35944042e-01],\n",
              "       [8.56195377e-01, 3.20904539e-01, 1.62633141e-01],\n",
              "       [5.13695721e-01, 5.79883241e-02, 9.82326143e-01],\n",
              "       [4.39578872e-01, 1.54245041e-01, 9.53718364e-01],\n",
              "       [9.03913815e-01, 6.47818682e-01, 1.06110821e-02],\n",
              "       [8.04910191e-02, 9.43084937e-01, 2.94614306e-01],\n",
              "       [2.25880549e-01, 5.83633420e-01, 4.16936136e-02],\n",
              "       [8.36148577e-01, 7.08709581e-02, 5.06103668e-01],\n",
              "       [6.29728818e-01, 7.57945061e-01, 8.93275180e-01],\n",
              "       [4.01434724e-01, 4.14394718e-01, 7.59098557e-01],\n",
              "       [2.26097479e-01, 6.89402856e-01, 3.03378952e-01],\n",
              "       [8.07542420e-01, 1.20960710e-02, 5.67453912e-01],\n",
              "       [5.58331657e-01, 9.71577443e-01, 7.12111266e-01],\n",
              "       [2.67726824e-01, 7.85757529e-01, 9.09175727e-01],\n",
              "       [5.62763834e-01, 2.67692544e-01, 2.58876829e-01],\n",
              "       [4.37801111e-01, 2.34622727e-01, 9.72843993e-01],\n",
              "       [3.63955423e-01, 2.77810055e-01, 8.88251186e-01],\n",
              "       [5.30558883e-01, 3.84037081e-01, 1.02957830e-01],\n",
              "       [1.25852984e-01, 4.45251452e-01, 5.75308561e-01],\n",
              "       [7.64887379e-02, 4.24249285e-02, 9.80620345e-02],\n",
              "       [1.83223158e-03, 8.87609205e-01, 2.05229882e-02],\n",
              "       [6.13275264e-02, 6.75163305e-01, 4.14949331e-01],\n",
              "       [6.06423970e-01, 7.52803779e-01, 6.91824271e-01],\n",
              "       [6.49017045e-01, 1.55692232e-01, 8.76598060e-01],\n",
              "       [4.09726689e-02, 5.66235216e-01, 4.31781937e-02],\n",
              "       [8.65089449e-01, 3.00691545e-01, 5.64210011e-01],\n",
              "       [1.85773055e-01, 7.07077105e-01, 5.11266664e-01],\n",
              "       [2.05615408e-01, 6.08492499e-01, 2.33446922e-01],\n",
              "       [2.96056187e-01, 4.27842477e-01, 7.14222372e-01],\n",
              "       [1.86512524e-01, 8.26748779e-01, 7.87276132e-01],\n",
              "       [1.31198371e-01, 7.81902839e-01, 2.80545695e-01],\n",
              "       [7.31623279e-02, 6.13451373e-01, 8.79049340e-01],\n",
              "       [1.41664548e-01, 5.79118340e-02, 1.75774768e-01],\n",
              "       [1.03404879e-01, 5.59828374e-01, 6.27389291e-01],\n",
              "       [9.41527137e-01, 9.99078500e-01, 1.58329259e-01],\n",
              "       [8.23605350e-01, 6.49532906e-01, 1.70213165e-01],\n",
              "       [1.74799493e-01, 1.34432499e-01, 3.42283200e-01],\n",
              "       [6.17217085e-01, 8.82592538e-01, 1.45549101e-01],\n",
              "       [3.07827864e-01, 6.16657491e-01, 4.87856710e-01],\n",
              "       [9.88913113e-01, 2.58126885e-01, 8.73199121e-01],\n",
              "       [8.45076406e-01, 8.52277342e-02, 2.60868730e-01],\n",
              "       [4.80506428e-01, 8.41790913e-01, 5.95092996e-01],\n",
              "       [5.71418744e-01, 1.14870277e-01, 5.04557067e-01],\n",
              "       [9.83401724e-01, 7.05041217e-01, 9.92398984e-01],\n",
              "       [6.59630325e-01, 9.49037065e-01, 4.51370397e-01],\n",
              "       [3.62777444e-01, 9.48122688e-01, 6.90879394e-01],\n",
              "       [8.71583304e-01, 2.70077039e-01, 6.51003930e-01],\n",
              "       [9.98954568e-01, 7.64512710e-01, 4.28689038e-01],\n",
              "       [8.39232699e-02, 9.94369316e-01, 4.97688558e-01],\n",
              "       [7.91267735e-01, 7.80766746e-01, 6.87269075e-01],\n",
              "       [5.75783499e-01, 1.17861606e-01, 2.13010903e-01],\n",
              "       [6.95039288e-01, 9.56251072e-01, 4.33228408e-01],\n",
              "       [7.52850795e-01, 7.10130686e-01, 4.26888329e-01],\n",
              "       [5.98825199e-01, 5.08764663e-02, 7.15602213e-01],\n",
              "       [1.36532621e-01, 3.38216100e-01, 3.65768603e-01],\n",
              "       [7.76474710e-01, 8.25720129e-01, 2.11899077e-01],\n",
              "       [8.31292877e-01, 6.43640418e-02, 9.14540328e-01],\n",
              "       [1.91154779e-01, 6.67826465e-01, 7.55374272e-01],\n",
              "       [5.51472771e-02, 7.81291261e-02, 1.88309847e-02],\n",
              "       [7.49227958e-01, 8.68628774e-01, 6.77980212e-02]])"
            ]
          },
          "metadata": {
            "tags": []
          },
          "execution_count": 10
        }
      ]
    },
    {
      "cell_type": "markdown",
      "metadata": {
        "id": "jZSSdJDpTMqb"
      },
      "source": [
        "b) Matplot"
      ]
    },
    {
      "cell_type": "code",
      "metadata": {
        "colab": {
          "base_uri": "https://localhost:8080/",
          "height": 199
        },
        "id": "bFmf7DtXTQ4d",
        "outputId": "4398568c-8009-4776-9d90-910638bec34f"
      },
      "source": [
        "import matplotlib.pyplot as plt\n",
        "import numpy as np\n",
        "x=np.array(5)\n",
        "y=(35,45,23,27,60)\n",
        "plt.bar(x,y)\n",
        "plt.show()"
      ],
      "execution_count": null,
      "outputs": [
        {
          "output_type": "display_data",
          "data": {
            "image/png": "[encoded data removed]",
            "text/plain": [
              "<Figure size 432x288 with 1 Axes>"
            ]
          },
          "metadata": {
            "tags": [],
            "needs_background": "light"
          }
        }
      ]
    }
  ]
}